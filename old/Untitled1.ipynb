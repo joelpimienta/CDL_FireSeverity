{
 "cells": [
  {
   "cell_type": "code",
   "execution_count": 2,
   "id": "44dd4947-2046-497b-ab62-973676fa7d87",
   "metadata": {},
   "outputs": [
    {
     "name": "stderr",
     "output_type": "stream",
     "text": [
      "<>:11: SyntaxWarning: invalid escape sequence '\\D'\n",
      "<>:11: SyntaxWarning: invalid escape sequence '\\D'\n"
     ]
    },
    {
     "data": {
      "text/html": [
       "\n",
       "            <style>\n",
       "                .geemap-dark {\n",
       "                    --jp-widgets-color: white;\n",
       "                    --jp-widgets-label-color: white;\n",
       "                    --jp-ui-font-color1: white;\n",
       "                    --jp-layout-color2: #454545;\n",
       "                    background-color: #383838;\n",
       "                }\n",
       "\n",
       "                .geemap-dark .jupyter-button {\n",
       "                    --jp-layout-color3: #383838;\n",
       "                }\n",
       "\n",
       "                .geemap-colab {\n",
       "                    background-color: var(--colab-primary-surface-color, white);\n",
       "                }\n",
       "\n",
       "                .geemap-colab .jupyter-button {\n",
       "                    --jp-layout-color3: var(--colab-primary-surface-color, white);\n",
       "                }\n",
       "            </style>\n",
       "            "
      ],
      "text/plain": [
       "<IPython.core.display.HTML object>"
      ]
     },
     "metadata": {},
     "output_type": "display_data"
    },
    {
     "name": "stderr",
     "output_type": "stream",
     "text": [
      "C:\\Users\\samet\\AppData\\Local\\Temp\\ipykernel_38820\\143372900.py:11: SyntaxWarning: invalid escape sequence '\\D'\n",
      "  out_dir = os.path.expanduser(\"~\\Downloads\")\n"
     ]
    },
    {
     "data": {
      "text/plain": [
       "'C:\\\\Users\\\\samet\\\\Downloads'"
      ]
     },
     "execution_count": 2,
     "metadata": {},
     "output_type": "execute_result"
    }
   ],
   "source": [
    "import ee\n",
    "import geemap\n",
    "import pandas as pd\n",
    "from datetime import datetime\n",
    "import os\n",
    "\n",
    "# Initialize Earth Engine\n",
    "ee.Authenticate()\n",
    "ee.Initialize(project = \"ee-samettenborough\")\n",
    "\n",
    "out_dir = os.path.expanduser(\"~\\Downloads\")\n",
    "\n",
    "out_dir"
   ]
  },
  {
   "cell_type": "code",
   "execution_count": 135,
   "id": "1938e25c-9e6a-49d8-b9e7-454e37137104",
   "metadata": {},
   "outputs": [
    {
     "data": {
      "text/html": [
       "\n",
       "            <style>\n",
       "                .geemap-dark {\n",
       "                    --jp-widgets-color: white;\n",
       "                    --jp-widgets-label-color: white;\n",
       "                    --jp-ui-font-color1: white;\n",
       "                    --jp-layout-color2: #454545;\n",
       "                    background-color: #383838;\n",
       "                }\n",
       "\n",
       "                .geemap-dark .jupyter-button {\n",
       "                    --jp-layout-color3: #383838;\n",
       "                }\n",
       "\n",
       "                .geemap-colab {\n",
       "                    background-color: var(--colab-primary-surface-color, white);\n",
       "                }\n",
       "\n",
       "                .geemap-colab .jupyter-button {\n",
       "                    --jp-layout-color3: var(--colab-primary-surface-color, white);\n",
       "                }\n",
       "            </style>\n",
       "            "
      ],
      "text/plain": [
       "<IPython.core.display.HTML object>"
      ]
     },
     "metadata": {},
     "output_type": "display_data"
    },
    {
     "data": {
      "application/vnd.jupyter.widget-view+json": {
       "model_id": "52928a5c7e4e4601907d6beaf6b11044",
       "version_major": 2,
       "version_minor": 0
      },
      "text/plain": [
       "Map(center=[0, 0], controls=(WidgetControl(options=['position', 'transparent_bg'], widget=SearchDataGUI(childr…"
      ]
     },
     "execution_count": 135,
     "metadata": {},
     "output_type": "execute_result"
    }
   ],
   "source": [
    "\n",
    "\n",
    "Map = geemap.Map()\n",
    "\n",
    "image = ee.Image(\"LANDSAT/LE7_TOA_5YEAR/1999_2003\")\n",
    "\n",
    "landsat_vis = {\"bands\": [\"B4\", \"B3\", \"B2\"], \"gamma\": 2}\n",
    "Map.addLayer(image, landsat_vis, \"LE7_TOA_5YEAR/1999_2003\", True, 1)\n",
    "Map\n"
   ]
  },
  {
   "cell_type": "code",
   "execution_count": 141,
   "id": "976542b7-8c58-4209-bbb3-b1e082e1d8eb",
   "metadata": {},
   "outputs": [
    {
     "data": {
      "text/html": [
       "\n",
       "            <style>\n",
       "                .geemap-dark {\n",
       "                    --jp-widgets-color: white;\n",
       "                    --jp-widgets-label-color: white;\n",
       "                    --jp-ui-font-color1: white;\n",
       "                    --jp-layout-color2: #454545;\n",
       "                    background-color: #383838;\n",
       "                }\n",
       "\n",
       "                .geemap-dark .jupyter-button {\n",
       "                    --jp-layout-color3: #383838;\n",
       "                }\n",
       "\n",
       "                .geemap-colab {\n",
       "                    background-color: var(--colab-primary-surface-color, white);\n",
       "                }\n",
       "\n",
       "                .geemap-colab .jupyter-button {\n",
       "                    --jp-layout-color3: var(--colab-primary-surface-color, white);\n",
       "                }\n",
       "            </style>\n",
       "            "
      ],
      "text/plain": [
       "<IPython.core.display.HTML object>"
      ]
     },
     "metadata": {},
     "output_type": "display_data"
    }
   ],
   "source": [
    "\n",
    "\n",
    "region = ee.Geometry.BBox(-115.6339, 35.7529, -114.9338, 36.0)\n",
    "Map.addLayer(region, {}, \"region\")\n",
    "Map.centerObject(region)\n"
   ]
  },
  {
   "cell_type": "code",
   "execution_count": 142,
   "id": "c3064dac-0b9f-4a13-8638-65fbb3c2344c",
   "metadata": {},
   "outputs": [
    {
     "data": {
      "text/html": [
       "\n",
       "            <style>\n",
       "                .geemap-dark {\n",
       "                    --jp-widgets-color: white;\n",
       "                    --jp-widgets-label-color: white;\n",
       "                    --jp-ui-font-color1: white;\n",
       "                    --jp-layout-color2: #454545;\n",
       "                    background-color: #383838;\n",
       "                }\n",
       "\n",
       "                .geemap-dark .jupyter-button {\n",
       "                    --jp-layout-color3: #383838;\n",
       "                }\n",
       "\n",
       "                .geemap-colab {\n",
       "                    background-color: var(--colab-primary-surface-color, white);\n",
       "                }\n",
       "\n",
       "                .geemap-colab .jupyter-button {\n",
       "                    --jp-layout-color3: var(--colab-primary-surface-color, white);\n",
       "                }\n",
       "            </style>\n",
       "            "
      ],
      "text/plain": [
       "<IPython.core.display.HTML object>"
      ]
     },
     "metadata": {},
     "output_type": "display_data"
    }
   ],
   "source": [
    "\n",
    "\n",
    "features = geemap.fishnet(region, rows=2, cols=2)\n",
    "Map.addLayer(features, {}, \"Grids\")\n"
   ]
  },
  {
   "cell_type": "code",
   "execution_count": 126,
   "id": "a1937e85-3334-45f2-aed1-181eb4b0126e",
   "metadata": {},
   "outputs": [
    {
     "data": {
      "text/html": [
       "\n",
       "            <style>\n",
       "                .geemap-dark {\n",
       "                    --jp-widgets-color: white;\n",
       "                    --jp-widgets-label-color: white;\n",
       "                    --jp-ui-font-color1: white;\n",
       "                    --jp-layout-color2: #454545;\n",
       "                    background-color: #383838;\n",
       "                }\n",
       "\n",
       "                .geemap-dark .jupyter-button {\n",
       "                    --jp-layout-color3: #383838;\n",
       "                }\n",
       "\n",
       "                .geemap-colab {\n",
       "                    background-color: var(--colab-primary-surface-color, white);\n",
       "                }\n",
       "\n",
       "                .geemap-colab .jupyter-button {\n",
       "                    --jp-layout-color3: var(--colab-primary-surface-color, white);\n",
       "                }\n",
       "            </style>\n",
       "            "
      ],
      "text/plain": [
       "<IPython.core.display.HTML object>"
      ]
     },
     "metadata": {},
     "output_type": "display_data"
    },
    {
     "data": {
      "application/vnd.jupyter.widget-view+json": {
       "model_id": "e80ff605d282475aa179a79dabeca69d",
       "version_major": 2,
       "version_minor": 0
      },
      "text/plain": [
       "Map(center=[0, 0], controls=(WidgetControl(options=['position', 'transparent_bg'], widget=SearchDataGUI(childr…"
      ]
     },
     "execution_count": 126,
     "metadata": {},
     "output_type": "execute_result"
    }
   ],
   "source": [
    "Map = geemap.Map()\n",
    "\n",
    "image = ee.Image(\"LANDSAT/LE7_TOA_5YEAR/1999_2003\")\n",
    "\n",
    "landsat_vis = {\"bands\": [\"B4\", \"B3\", \"B2\"], \"gamma\": 2}\n",
    "Map.addLayer(image, landsat_vis, \"LE7_TOA_5YEAR/1999_2003\", True, 1)\n",
    "Map"
   ]
  },
  {
   "cell_type": "code",
   "execution_count": 127,
   "id": "d4ddedfb-0f7a-4f00-b732-8c15bcf98935",
   "metadata": {},
   "outputs": [
    {
     "data": {
      "text/html": [
       "\n",
       "            <style>\n",
       "                .geemap-dark {\n",
       "                    --jp-widgets-color: white;\n",
       "                    --jp-widgets-label-color: white;\n",
       "                    --jp-ui-font-color1: white;\n",
       "                    --jp-layout-color2: #454545;\n",
       "                    background-color: #383838;\n",
       "                }\n",
       "\n",
       "                .geemap-dark .jupyter-button {\n",
       "                    --jp-layout-color3: #383838;\n",
       "                }\n",
       "\n",
       "                .geemap-colab {\n",
       "                    background-color: var(--colab-primary-surface-color, white);\n",
       "                }\n",
       "\n",
       "                .geemap-colab .jupyter-button {\n",
       "                    --jp-layout-color3: var(--colab-primary-surface-color, white);\n",
       "                }\n",
       "            </style>\n",
       "            "
      ],
      "text/plain": [
       "<IPython.core.display.HTML object>"
      ]
     },
     "metadata": {},
     "output_type": "display_data"
    }
   ],
   "source": [
    "region = ee.Geometry.BBox(-90.1517107831, 15.5726233568, -89.1726311637, 16.29215598)\n",
    "Map.centerObject(region)"
   ]
  },
  {
   "cell_type": "code",
   "execution_count": 133,
   "id": "4b998c58-9429-4486-8a61-7a187c096a25",
   "metadata": {},
   "outputs": [
    {
     "data": {
      "text/html": [
       "\n",
       "            <style>\n",
       "                .geemap-dark {\n",
       "                    --jp-widgets-color: white;\n",
       "                    --jp-widgets-label-color: white;\n",
       "                    --jp-ui-font-color1: white;\n",
       "                    --jp-layout-color2: #454545;\n",
       "                    background-color: #383838;\n",
       "                }\n",
       "\n",
       "                .geemap-dark .jupyter-button {\n",
       "                    --jp-layout-color3: #383838;\n",
       "                }\n",
       "\n",
       "                .geemap-colab {\n",
       "                    background-color: var(--colab-primary-surface-color, white);\n",
       "                }\n",
       "\n",
       "                .geemap-colab .jupyter-button {\n",
       "                    --jp-layout-color3: var(--colab-primary-surface-color, white);\n",
       "                }\n",
       "            </style>\n",
       "            "
      ],
      "text/plain": [
       "<IPython.core.display.HTML object>"
      ]
     },
     "metadata": {},
     "output_type": "display_data"
    }
   ],
   "source": [
    "features = geemap.fishnet(region, rows = 2, cols = 2)\n",
    "Map.addLayer(features, {}, \"Grids\")"
   ]
  },
  {
   "cell_type": "code",
   "execution_count": 134,
   "id": "e12d2099-78db-4eba-9696-ed7c9eb734ef",
   "metadata": {},
   "outputs": [
    {
     "data": {
      "text/html": [
       "\n",
       "            <style>\n",
       "                .geemap-dark {\n",
       "                    --jp-widgets-color: white;\n",
       "                    --jp-widgets-label-color: white;\n",
       "                    --jp-ui-font-color1: white;\n",
       "                    --jp-layout-color2: #454545;\n",
       "                    background-color: #383838;\n",
       "                }\n",
       "\n",
       "                .geemap-dark .jupyter-button {\n",
       "                    --jp-layout-color3: #383838;\n",
       "                }\n",
       "\n",
       "                .geemap-colab {\n",
       "                    background-color: var(--colab-primary-surface-color, white);\n",
       "                }\n",
       "\n",
       "                .geemap-colab .jupyter-button {\n",
       "                    --jp-layout-color3: var(--colab-primary-surface-color, white);\n",
       "                }\n",
       "            </style>\n",
       "            "
      ],
      "text/plain": [
       "<IPython.core.display.HTML object>"
      ]
     },
     "metadata": {},
     "output_type": "display_data"
    },
    {
     "name": "stdout",
     "output_type": "stream",
     "text": [
      "Downloading 1/9: C:\\Users\\samet\\Downloads\\landsat_1.tif\n"
     ]
    },
    {
     "data": {
      "application/vnd.jupyter.widget-view+json": {
       "model_id": "0c1a92a724104097a1bcf5e305704cda",
       "version_major": 2,
       "version_minor": 0
      },
      "text/plain": [
       "landsat_1.tif: |                                                      | 0.00/1.59M (raw) [  0.0%] in 00:00 (et…"
      ]
     },
     "metadata": {},
     "output_type": "display_data"
    },
    {
     "name": "stdout",
     "output_type": "stream",
     "text": [
      "Downloading 2/9: C:\\Users\\samet\\Downloads\\landsat_2.tif\n"
     ]
    },
    {
     "data": {
      "application/vnd.jupyter.widget-view+json": {
       "model_id": "05d4de56194b4b1aa616991bd77a7dd5",
       "version_major": 2,
       "version_minor": 0
      },
      "text/plain": [
       "landsat_2.tif: |                                                      | 0.00/1.59M (raw) [  0.0%] in 00:00 (et…"
      ]
     },
     "metadata": {},
     "output_type": "display_data"
    },
    {
     "name": "stdout",
     "output_type": "stream",
     "text": [
      "Downloading 3/9: C:\\Users\\samet\\Downloads\\landsat_3.tif\n"
     ]
    },
    {
     "data": {
      "application/vnd.jupyter.widget-view+json": {
       "model_id": "56bc235b7996478fa342de3e57f517de",
       "version_major": 2,
       "version_minor": 0
      },
      "text/plain": [
       "landsat_3.tif: |                                                      | 0.00/1.59M (raw) [  0.0%] in 00:00 (et…"
      ]
     },
     "metadata": {},
     "output_type": "display_data"
    },
    {
     "name": "stdout",
     "output_type": "stream",
     "text": [
      "Downloading 4/9: C:\\Users\\samet\\Downloads\\landsat_4.tif\n"
     ]
    },
    {
     "data": {
      "application/vnd.jupyter.widget-view+json": {
       "model_id": "b00d2e7b12e94640b33dd1a8506be203",
       "version_major": 2,
       "version_minor": 0
      },
      "text/plain": [
       "landsat_4.tif: |                                                      | 0.00/1.60M (raw) [  0.0%] in 00:00 (et…"
      ]
     },
     "metadata": {},
     "output_type": "display_data"
    },
    {
     "name": "stdout",
     "output_type": "stream",
     "text": [
      "Downloading 5/9: C:\\Users\\samet\\Downloads\\landsat_5.tif\n"
     ]
    },
    {
     "data": {
      "application/vnd.jupyter.widget-view+json": {
       "model_id": "349901f5e7f6442795cecac8c1b8b56f",
       "version_major": 2,
       "version_minor": 0
      },
      "text/plain": [
       "landsat_5.tif: |                                                      | 0.00/1.60M (raw) [  0.0%] in 00:00 (et…"
      ]
     },
     "metadata": {},
     "output_type": "display_data"
    },
    {
     "name": "stdout",
     "output_type": "stream",
     "text": [
      "Downloading 6/9: C:\\Users\\samet\\Downloads\\landsat_6.tif\n"
     ]
    },
    {
     "data": {
      "application/vnd.jupyter.widget-view+json": {
       "model_id": "4a0e7502f59f41bbb069e23e236f61d6",
       "version_major": 2,
       "version_minor": 0
      },
      "text/plain": [
       "landsat_6.tif: |                                                      | 0.00/1.60M (raw) [  0.0%] in 00:00 (et…"
      ]
     },
     "metadata": {},
     "output_type": "display_data"
    },
    {
     "name": "stdout",
     "output_type": "stream",
     "text": [
      "Downloading 7/9: C:\\Users\\samet\\Downloads\\landsat_7.tif\n"
     ]
    },
    {
     "data": {
      "application/vnd.jupyter.widget-view+json": {
       "model_id": "937cf0f881604066a27a6b2b452db43d",
       "version_major": 2,
       "version_minor": 0
      },
      "text/plain": [
       "landsat_7.tif: |                                                      | 0.00/1.60M (raw) [  0.0%] in 00:00 (et…"
      ]
     },
     "metadata": {},
     "output_type": "display_data"
    },
    {
     "name": "stdout",
     "output_type": "stream",
     "text": [
      "Downloading 8/9: C:\\Users\\samet\\Downloads\\landsat_8.tif\n"
     ]
    },
    {
     "data": {
      "application/vnd.jupyter.widget-view+json": {
       "model_id": "c416fe15b0da45a48f6da709db242f77",
       "version_major": 2,
       "version_minor": 0
      },
      "text/plain": [
       "landsat_8.tif: |                                                      | 0.00/1.60M (raw) [  0.0%] in 00:00 (et…"
      ]
     },
     "metadata": {},
     "output_type": "display_data"
    },
    {
     "name": "stdout",
     "output_type": "stream",
     "text": [
      "Downloading 9/9: C:\\Users\\samet\\Downloads\\landsat_9.tif\n"
     ]
    },
    {
     "data": {
      "application/vnd.jupyter.widget-view+json": {
       "model_id": "9ab1544278664594a688a0ae22cc8b10",
       "version_major": 2,
       "version_minor": 0
      },
      "text/plain": [
       "landsat_9.tif: |                                                      | 0.00/1.60M (raw) [  0.0%] in 00:00 (et…"
      ]
     },
     "metadata": {},
     "output_type": "display_data"
    },
    {
     "name": "stdout",
     "output_type": "stream",
     "text": [
      "Downloaded 9 tiles in 23.99776554107666 seconds.\n"
     ]
    }
   ],
   "source": [
    "geemap.download_ee_image_tiles(\n",
    "    image, features, out_dir, prefix=\"landsat_\", crs=\"EPSG:3857\", scale=100\n",
    ")"
   ]
  },
  {
   "cell_type": "code",
   "execution_count": 9,
   "id": "1dd8cdc6-4bc3-4cfe-8bfe-4d294de108a5",
   "metadata": {},
   "outputs": [
    {
     "data": {
      "text/html": [
       "\n",
       "            <style>\n",
       "                .geemap-dark {\n",
       "                    --jp-widgets-color: white;\n",
       "                    --jp-widgets-label-color: white;\n",
       "                    --jp-ui-font-color1: white;\n",
       "                    --jp-layout-color2: #454545;\n",
       "                    background-color: #383838;\n",
       "                }\n",
       "\n",
       "                .geemap-dark .jupyter-button {\n",
       "                    --jp-layout-color3: #383838;\n",
       "                }\n",
       "\n",
       "                .geemap-colab {\n",
       "                    background-color: var(--colab-primary-surface-color, white);\n",
       "                }\n",
       "\n",
       "                .geemap-colab .jupyter-button {\n",
       "                    --jp-layout-color3: var(--colab-primary-surface-color, white);\n",
       "                }\n",
       "            </style>\n",
       "            "
      ],
      "text/plain": [
       "<IPython.core.display.HTML object>"
      ]
     },
     "metadata": {},
     "output_type": "display_data"
    }
   ],
   "source": [
    "out_dir = os.path.expanduser(\"~/Downloads\")"
   ]
  },
  {
   "cell_type": "code",
   "execution_count": 14,
   "id": "22f4ac41-c895-4c2c-a3ec-37dc2862a9b8",
   "metadata": {},
   "outputs": [
    {
     "data": {
      "text/html": [
       "\n",
       "            <style>\n",
       "                .geemap-dark {\n",
       "                    --jp-widgets-color: white;\n",
       "                    --jp-widgets-label-color: white;\n",
       "                    --jp-ui-font-color1: white;\n",
       "                    --jp-layout-color2: #454545;\n",
       "                    background-color: #383838;\n",
       "                }\n",
       "\n",
       "                .geemap-dark .jupyter-button {\n",
       "                    --jp-layout-color3: #383838;\n",
       "                }\n",
       "\n",
       "                .geemap-colab {\n",
       "                    background-color: var(--colab-primary-surface-color, white);\n",
       "                }\n",
       "\n",
       "                .geemap-colab .jupyter-button {\n",
       "                    --jp-layout-color3: var(--colab-primary-surface-color, white);\n",
       "                }\n",
       "            </style>\n",
       "            "
      ],
      "text/plain": [
       "<IPython.core.display.HTML object>"
      ]
     },
     "metadata": {},
     "output_type": "display_data"
    },
    {
     "data": {
      "application/vnd.jupyter.widget-view+json": {
       "model_id": "c0e24b63be124b72a2cc8b8f77ce0f7d",
       "version_major": 2,
       "version_minor": 0
      },
      "text/plain": [
       "Map(center=[0, 0], controls=(WidgetControl(options=['position', 'transparent_bg'], widget=SearchDataGUI(childr…"
      ]
     },
     "execution_count": 14,
     "metadata": {},
     "output_type": "execute_result"
    }
   ],
   "source": [
    "\n",
    "\n",
    "loc = ee.Geometry.Point(-99.2222, 46.7816)\n",
    "collection = (\n",
    "    ee.ImageCollection(\"USDA/NAIP/DOQQ\")\n",
    "    .filterBounds(loc)\n",
    "    .filterDate(\"2008-01-01\", \"2020-01-01\")\n",
    "    .filter(ee.Filter.listContains(\"system:band_names\", \"N\"))\n",
    ")\n",
    "Map = geemap.Map()\n",
    "landsat_vis = {\"bands\": [\"R\", \"G\", \"B\"], \"gamma\": 2}\n",
    "Map.addLayer(collection, landsat_vis, \"testing\", True, 1)\n",
    "Map"
   ]
  },
  {
   "cell_type": "code",
   "execution_count": 11,
   "id": "f083a7a2-61a6-42be-a6fc-4d328090efa6",
   "metadata": {},
   "outputs": [
    {
     "data": {
      "text/html": [
       "\n",
       "            <style>\n",
       "                .geemap-dark {\n",
       "                    --jp-widgets-color: white;\n",
       "                    --jp-widgets-label-color: white;\n",
       "                    --jp-ui-font-color1: white;\n",
       "                    --jp-layout-color2: #454545;\n",
       "                    background-color: #383838;\n",
       "                }\n",
       "\n",
       "                .geemap-dark .jupyter-button {\n",
       "                    --jp-layout-color3: #383838;\n",
       "                }\n",
       "\n",
       "                .geemap-colab {\n",
       "                    background-color: var(--colab-primary-surface-color, white);\n",
       "                }\n",
       "\n",
       "                .geemap-colab .jupyter-button {\n",
       "                    --jp-layout-color3: var(--colab-primary-surface-color, white);\n",
       "                }\n",
       "            </style>\n",
       "            "
      ],
      "text/plain": [
       "<IPython.core.display.HTML object>"
      ]
     },
     "metadata": {},
     "output_type": "display_data"
    },
    {
     "name": "stdout",
     "output_type": "stream",
     "text": [
      "Total number of images: 9\n",
      "\n",
      "Downloading 1/9: m_4609915_sw_14_060_20180902_20181213.tif\n"
     ]
    },
    {
     "data": {
      "application/vnd.jupyter.widget-view+json": {
       "model_id": "521b481406424e108341723760637df7",
       "version_major": 2,
       "version_minor": 0
      },
      "text/plain": [
       "m_4609915_sw_14_060_20180902_20181213.tif: |                          | 0.00/1.49M (raw) [  0.0%] in 00:00 (et…"
      ]
     },
     "metadata": {},
     "output_type": "display_data"
    },
    {
     "name": "stdout",
     "output_type": "stream",
     "text": [
      "Downloading 2/9: m_4609915_sw_14_060_20190626.tif\n"
     ]
    },
    {
     "data": {
      "application/vnd.jupyter.widget-view+json": {
       "model_id": "beed79ff25ed4dfa968461e8794318c7",
       "version_major": 2,
       "version_minor": 0
      },
      "text/plain": [
       "m_4609915_sw_14_060_20190626.tif: |                                   | 0.00/1.54M (raw) [  0.0%] in 00:00 (et…"
      ]
     },
     "metadata": {},
     "output_type": "display_data"
    },
    {
     "name": "stdout",
     "output_type": "stream",
     "text": [
      "Downloading 3/9: m_4609915_sw_14_1_20090818.tif\n"
     ]
    },
    {
     "data": {
      "application/vnd.jupyter.widget-view+json": {
       "model_id": "400a715991304ca3a3ce8935ccb9b8ad",
       "version_major": 2,
       "version_minor": 0
      },
      "text/plain": [
       "m_4609915_sw_14_1_20090818.tif: |                                     | 0.00/1.72M (raw) [  0.0%] in 00:00 (et…"
      ]
     },
     "metadata": {},
     "output_type": "display_data"
    },
    {
     "name": "stdout",
     "output_type": "stream",
     "text": [
      "Downloading 4/9: m_4609915_sw_14_1_20100629.tif\n"
     ]
    },
    {
     "data": {
      "application/vnd.jupyter.widget-view+json": {
       "model_id": "33857c3281ae40a187a379ba88853789",
       "version_major": 2,
       "version_minor": 0
      },
      "text/plain": [
       "m_4609915_sw_14_1_20100629.tif: |                                     | 0.00/1.66M (raw) [  0.0%] in 00:00 (et…"
      ]
     },
     "metadata": {},
     "output_type": "display_data"
    },
    {
     "name": "stdout",
     "output_type": "stream",
     "text": [
      "Downloading 5/9: m_4609915_sw_14_1_20120714.tif\n"
     ]
    },
    {
     "data": {
      "application/vnd.jupyter.widget-view+json": {
       "model_id": "b7e608d154934f37bcb956c0b4e624a2",
       "version_major": 2,
       "version_minor": 0
      },
      "text/plain": [
       "m_4609915_sw_14_1_20120714.tif: |                                     | 0.00/1.66M (raw) [  0.0%] in 00:00 (et…"
      ]
     },
     "metadata": {},
     "output_type": "display_data"
    },
    {
     "name": "stdout",
     "output_type": "stream",
     "text": [
      "Downloading 6/9: m_4609915_sw_14_1_20140901.tif\n"
     ]
    },
    {
     "data": {
      "application/vnd.jupyter.widget-view+json": {
       "model_id": "caaaf23f806c49979df55ca9b6e9d7b4",
       "version_major": 2,
       "version_minor": 0
      },
      "text/plain": [
       "m_4609915_sw_14_1_20140901.tif: |                                     | 0.00/1.66M (raw) [  0.0%] in 00:00 (et…"
      ]
     },
     "metadata": {},
     "output_type": "display_data"
    },
    {
     "name": "stdout",
     "output_type": "stream",
     "text": [
      "Downloading 7/9: m_4609915_sw_14_1_20150926.tif\n"
     ]
    },
    {
     "data": {
      "application/vnd.jupyter.widget-view+json": {
       "model_id": "36a18f42ec254e25817e1566f21711bb",
       "version_major": 2,
       "version_minor": 0
      },
      "text/plain": [
       "m_4609915_sw_14_1_20150926.tif: |                                     | 0.00/1.66M (raw) [  0.0%] in 00:00 (et…"
      ]
     },
     "metadata": {},
     "output_type": "display_data"
    },
    {
     "name": "stdout",
     "output_type": "stream",
     "text": [
      "Downloading 8/9: m_4609915_sw_14_h_20160704.tif\n"
     ]
    },
    {
     "data": {
      "application/vnd.jupyter.widget-view+json": {
       "model_id": "dc6c4f47e4db42d3add8365aadb356a3",
       "version_major": 2,
       "version_minor": 0
      },
      "text/plain": [
       "m_4609915_sw_14_h_20160704.tif: |                                     | 0.00/1.64M (raw) [  0.0%] in 00:00 (et…"
      ]
     },
     "metadata": {},
     "output_type": "display_data"
    },
    {
     "name": "stdout",
     "output_type": "stream",
     "text": [
      "Downloading 9/9: m_4609915_sw_14_h_20170703.tif\n"
     ]
    },
    {
     "data": {
      "application/vnd.jupyter.widget-view+json": {
       "model_id": "47a4632de32648f0b943b9cdbb9abb5f",
       "version_major": 2,
       "version_minor": 0
      },
      "text/plain": [
       "m_4609915_sw_14_h_20170703.tif: |                                     | 0.00/1.49M (raw) [  0.0%] in 00:00 (et…"
      ]
     },
     "metadata": {},
     "output_type": "display_data"
    }
   ],
   "source": [
    "geemap.download_ee_image_collection(collection, out_dir, scale=10)"
   ]
  },
  {
   "cell_type": "code",
   "execution_count": null,
   "id": "60a0e2d8-ec96-40e4-86e9-70ec5a90f1a9",
   "metadata": {},
   "outputs": [],
   "source": []
  },
  {
   "cell_type": "code",
   "execution_count": null,
   "id": "e3123d61-6102-462c-9f6f-fdd43ca6550c",
   "metadata": {},
   "outputs": [],
   "source": []
  },
  {
   "cell_type": "markdown",
   "id": "f20e7b42-c348-4e74-8b01-3dc6700b6078",
   "metadata": {},
   "source": [
    "## The section below works!"
   ]
  },
  {
   "cell_type": "markdown",
   "id": "e7b728c0-9893-4fb9-a6c0-eac9dba4f4be",
   "metadata": {},
   "source": [
    "This code defines an aoi (region), the gets the collection, filters between specific dates, filters to the region, then removes any pixels where the cloud cover is more than 5. After that, we take the median value of remaining pixels to get a composite image. That composite image now represents the \"cloudless\" image for the region. If we keep the time window pretty small (1-2 months) we should be ok.\n",
    "\n",
    "There are some commented out sections that download the data but the data for this region is large. The fishnet and tile function should probably be used to split the images up but it adds an additional row and col of data outside of the region defined. Will need to make the region smaller to account for this. The other option just downloads the the fewest number of full scenes to include the full region. This can also be quite large and each image will be many gigs potentially."
   ]
  },
  {
   "cell_type": "code",
   "execution_count": 3,
   "id": "e0caca57-aaf2-4581-8b7a-df82b469b3d1",
   "metadata": {},
   "outputs": [
    {
     "data": {
      "text/html": [
       "\n",
       "            <style>\n",
       "                .geemap-dark {\n",
       "                    --jp-widgets-color: white;\n",
       "                    --jp-widgets-label-color: white;\n",
       "                    --jp-ui-font-color1: white;\n",
       "                    --jp-layout-color2: #454545;\n",
       "                    background-color: #383838;\n",
       "                }\n",
       "\n",
       "                .geemap-dark .jupyter-button {\n",
       "                    --jp-layout-color3: #383838;\n",
       "                }\n",
       "\n",
       "                .geemap-colab {\n",
       "                    background-color: var(--colab-primary-surface-color, white);\n",
       "                }\n",
       "\n",
       "                .geemap-colab .jupyter-button {\n",
       "                    --jp-layout-color3: var(--colab-primary-surface-color, white);\n",
       "                }\n",
       "            </style>\n",
       "            "
      ],
      "text/plain": [
       "<IPython.core.display.HTML object>"
      ]
     },
     "metadata": {},
     "output_type": "display_data"
    }
   ],
   "source": [
    "region = ee.Geometry.BBox(-89.8867, 15.4242, -89.2083, 15.924)\n",
    "\n",
    "# Load the LANDSAT/LC08/C02/T1_L2 collection and filter it\n",
    "collection = ee.ImageCollection('LANDSAT/LC08/C02/T1_L2') \\\n",
    "    .filterDate('2024-01-01', '2024-03-01') \\\n",
    "    .filterBounds(region) \\\n",
    "    .filter(ee.Filter.lte('CLOUD_COVER', 5))\n",
    "\n",
    "# Create a cloud-free composite using the median reducer\n",
    "composite = collection.median()\n",
    "\n",
    "# # Define visualization parameters\n",
    "# vis_params = {\n",
    "#     'bands': ['SR_B4', 'SR_B3', 'SR_B2'],  # Red, Green, Blue\n",
    "#     'min': 0,\n",
    "#     'max': 20000,\n",
    "# }\n",
    "\n",
    "# # Create a map centered on Rhode Island\n",
    "# Map = geemap.Map(center=[15.5, -90.15], zoom=10)\n",
    "# Map.addLayer(composite.clip(region), vis_params, 'Rhode Island Composite')\n",
    "\n",
    "# # Display the map\n",
    "# Map"
   ]
  },
  {
   "cell_type": "code",
   "execution_count": 144,
   "id": "867c0288-d14e-4f92-ace5-56f417f83af0",
   "metadata": {},
   "outputs": [
    {
     "data": {
      "text/html": [
       "\n",
       "            <style>\n",
       "                .geemap-dark {\n",
       "                    --jp-widgets-color: white;\n",
       "                    --jp-widgets-label-color: white;\n",
       "                    --jp-ui-font-color1: white;\n",
       "                    --jp-layout-color2: #454545;\n",
       "                    background-color: #383838;\n",
       "                }\n",
       "\n",
       "                .geemap-dark .jupyter-button {\n",
       "                    --jp-layout-color3: #383838;\n",
       "                }\n",
       "\n",
       "                .geemap-colab {\n",
       "                    background-color: var(--colab-primary-surface-color, white);\n",
       "                }\n",
       "\n",
       "                .geemap-colab .jupyter-button {\n",
       "                    --jp-layout-color3: var(--colab-primary-surface-color, white);\n",
       "                }\n",
       "            </style>\n",
       "            "
      ],
      "text/plain": [
       "<IPython.core.display.HTML object>"
      ]
     },
     "metadata": {},
     "output_type": "display_data"
    }
   ],
   "source": [
    "# features = geemap.fishnet(region, rows=2, cols = 2)\n",
    "# Map.addLayer(features, {}, \"Grids\")"
   ]
  },
  {
   "cell_type": "code",
   "execution_count": 4,
   "id": "a2acb9a6-4f3f-436f-b9f8-d06746d5293a",
   "metadata": {},
   "outputs": [
    {
     "data": {
      "text/html": [
       "\n",
       "            <style>\n",
       "                .geemap-dark {\n",
       "                    --jp-widgets-color: white;\n",
       "                    --jp-widgets-label-color: white;\n",
       "                    --jp-ui-font-color1: white;\n",
       "                    --jp-layout-color2: #454545;\n",
       "                    background-color: #383838;\n",
       "                }\n",
       "\n",
       "                .geemap-dark .jupyter-button {\n",
       "                    --jp-layout-color3: #383838;\n",
       "                }\n",
       "\n",
       "                .geemap-colab {\n",
       "                    background-color: var(--colab-primary-surface-color, white);\n",
       "                }\n",
       "\n",
       "                .geemap-colab .jupyter-button {\n",
       "                    --jp-layout-color3: var(--colab-primary-surface-color, white);\n",
       "                }\n",
       "            </style>\n",
       "            "
      ],
      "text/plain": [
       "<IPython.core.display.HTML object>"
      ]
     },
     "metadata": {},
     "output_type": "display_data"
    },
    {
     "name": "stdout",
     "output_type": "stream",
     "text": [
      "Total number of images: 3\n",
      "\n",
      "Downloading 1/3: LC08_019049_20240211.tif\n"
     ]
    },
    {
     "name": "stderr",
     "output_type": "stream",
     "text": [
      "Consider adjusting `region`, `scale` and/or `dtype` to reduce the LC08_019049_20240211.tif download size (raw: 4.41 GB).\n"
     ]
    },
    {
     "data": {
      "application/vnd.jupyter.widget-view+json": {
       "model_id": "3ffe9ba88cf749bc96eec0084568d1d1",
       "version_major": 2,
       "version_minor": 0
      },
      "text/plain": [
       "LC08_019049_20240211.tif: |                                           | 0.00/4.41G (raw) [  0.0%] in 00:00 (et…"
      ]
     },
     "metadata": {},
     "output_type": "display_data"
    },
    {
     "name": "stdout",
     "output_type": "stream",
     "text": [
      "Downloading 2/3: LC08_019050_20240211.tif\n"
     ]
    },
    {
     "name": "stderr",
     "output_type": "stream",
     "text": [
      "Consider adjusting `region`, `scale` and/or `dtype` to reduce the LC08_019050_20240211.tif download size (raw: 4.41 GB).\n"
     ]
    },
    {
     "data": {
      "application/vnd.jupyter.widget-view+json": {
       "model_id": "3f9c8579a36f40878f56e53111e6dca5",
       "version_major": 2,
       "version_minor": 0
      },
      "text/plain": [
       "LC08_019050_20240211.tif: |                                           | 0.00/4.41G (raw) [  0.0%] in 00:00 (et…"
      ]
     },
     "metadata": {},
     "output_type": "display_data"
    },
    {
     "ename": "KeyboardInterrupt",
     "evalue": "",
     "output_type": "error",
     "traceback": [
      "\u001b[1;31m---------------------------------------------------------------------------\u001b[0m",
      "\u001b[1;31mKeyboardInterrupt\u001b[0m                         Traceback (most recent call last)",
      "Cell \u001b[1;32mIn[4], line 1\u001b[0m\n\u001b[1;32m----> 1\u001b[0m \u001b[43mgeemap\u001b[49m\u001b[38;5;241;43m.\u001b[39;49m\u001b[43mdownload_ee_image_collection\u001b[49m\u001b[43m(\u001b[49m\u001b[43mcollection\u001b[49m\u001b[43m,\u001b[49m\u001b[43m \u001b[49m\u001b[43mout_dir\u001b[49m\u001b[43m,\u001b[49m\u001b[43m \u001b[49m\u001b[43mscale\u001b[49m\u001b[38;5;241;43m=\u001b[39;49m\u001b[38;5;241;43m30\u001b[39;49m\u001b[43m)\u001b[49m\n",
      "File \u001b[1;32m~\\Documents\\coding-projects\\CDL_FireSeverity\\venv\\Lib\\site-packages\\geemap\\common.py:12790\u001b[0m, in \u001b[0;36mdownload_ee_image_collection\u001b[1;34m(collection, out_dir, filenames, region, crs, crs_transform, scale, resampling, dtype, overwrite, num_threads, max_tile_size, max_tile_dim, shape, scale_offset, unmask_value, **kwargs)\u001b[0m\n\u001b[0;32m  12788\u001b[0m         filename \u001b[38;5;241m=\u001b[39m os\u001b[38;5;241m.\u001b[39mpath\u001b[38;5;241m.\u001b[39mjoin(os\u001b[38;5;241m.\u001b[39mpath\u001b[38;5;241m.\u001b[39mabspath(out_dir), name)\n\u001b[0;32m  12789\u001b[0m         \u001b[38;5;28mprint\u001b[39m(\u001b[38;5;124mf\u001b[39m\u001b[38;5;124m\"\u001b[39m\u001b[38;5;124mDownloading \u001b[39m\u001b[38;5;132;01m{\u001b[39;00mi\u001b[38;5;250m \u001b[39m\u001b[38;5;241m+\u001b[39m\u001b[38;5;250m \u001b[39m\u001b[38;5;241m1\u001b[39m\u001b[38;5;132;01m}\u001b[39;00m\u001b[38;5;124m/\u001b[39m\u001b[38;5;132;01m{\u001b[39;00mcount\u001b[38;5;132;01m}\u001b[39;00m\u001b[38;5;124m: \u001b[39m\u001b[38;5;132;01m{\u001b[39;00mname\u001b[38;5;132;01m}\u001b[39;00m\u001b[38;5;124m\"\u001b[39m)\n\u001b[1;32m> 12790\u001b[0m         \u001b[43mdownload_ee_image\u001b[49m\u001b[43m(\u001b[49m\n\u001b[0;32m  12791\u001b[0m \u001b[43m            \u001b[49m\u001b[43mimage\u001b[49m\u001b[43m,\u001b[49m\n\u001b[0;32m  12792\u001b[0m \u001b[43m            \u001b[49m\u001b[43mfilename\u001b[49m\u001b[43m,\u001b[49m\n\u001b[0;32m  12793\u001b[0m \u001b[43m            \u001b[49m\u001b[43mregion\u001b[49m\u001b[43m,\u001b[49m\n\u001b[0;32m  12794\u001b[0m \u001b[43m            \u001b[49m\u001b[43mcrs\u001b[49m\u001b[43m,\u001b[49m\n\u001b[0;32m  12795\u001b[0m \u001b[43m            \u001b[49m\u001b[43mcrs_transform\u001b[49m\u001b[43m,\u001b[49m\n\u001b[0;32m  12796\u001b[0m \u001b[43m            \u001b[49m\u001b[43mscale\u001b[49m\u001b[43m,\u001b[49m\n\u001b[0;32m  12797\u001b[0m \u001b[43m            \u001b[49m\u001b[43mresampling\u001b[49m\u001b[43m,\u001b[49m\n\u001b[0;32m  12798\u001b[0m \u001b[43m            \u001b[49m\u001b[43mdtype\u001b[49m\u001b[43m,\u001b[49m\n\u001b[0;32m  12799\u001b[0m \u001b[43m            \u001b[49m\u001b[43moverwrite\u001b[49m\u001b[43m,\u001b[49m\n\u001b[0;32m  12800\u001b[0m \u001b[43m            \u001b[49m\u001b[43mnum_threads\u001b[49m\u001b[43m,\u001b[49m\n\u001b[0;32m  12801\u001b[0m \u001b[43m            \u001b[49m\u001b[43mmax_tile_size\u001b[49m\u001b[43m,\u001b[49m\n\u001b[0;32m  12802\u001b[0m \u001b[43m            \u001b[49m\u001b[43mmax_tile_dim\u001b[49m\u001b[43m,\u001b[49m\n\u001b[0;32m  12803\u001b[0m \u001b[43m            \u001b[49m\u001b[43mshape\u001b[49m\u001b[43m,\u001b[49m\n\u001b[0;32m  12804\u001b[0m \u001b[43m            \u001b[49m\u001b[43mscale_offset\u001b[49m\u001b[43m,\u001b[49m\n\u001b[0;32m  12805\u001b[0m \u001b[43m            \u001b[49m\u001b[43munmask_value\u001b[49m\u001b[43m,\u001b[49m\n\u001b[0;32m  12806\u001b[0m \u001b[43m            \u001b[49m\u001b[38;5;241;43m*\u001b[39;49m\u001b[38;5;241;43m*\u001b[39;49m\u001b[43mkwargs\u001b[49m\u001b[43m,\u001b[49m\n\u001b[0;32m  12807\u001b[0m \u001b[43m        \u001b[49m\u001b[43m)\u001b[49m\n\u001b[0;32m  12809\u001b[0m \u001b[38;5;28;01mexcept\u001b[39;00m \u001b[38;5;167;01mException\u001b[39;00m \u001b[38;5;28;01mas\u001b[39;00m e:\n\u001b[0;32m  12810\u001b[0m     \u001b[38;5;28;01mraise\u001b[39;00m \u001b[38;5;167;01mException\u001b[39;00m(\u001b[38;5;124mf\u001b[39m\u001b[38;5;124m\"\u001b[39m\u001b[38;5;124mError downloading image collection: \u001b[39m\u001b[38;5;132;01m{\u001b[39;00me\u001b[38;5;132;01m}\u001b[39;00m\u001b[38;5;124m\"\u001b[39m)\n",
      "File \u001b[1;32m~\\Documents\\coding-projects\\CDL_FireSeverity\\venv\\Lib\\site-packages\\geemap\\common.py:12472\u001b[0m, in \u001b[0;36mdownload_ee_image\u001b[1;34m(image, filename, region, crs, crs_transform, scale, resampling, dtype, overwrite, num_threads, max_tile_size, max_tile_dim, shape, scale_offset, unmask_value, **kwargs)\u001b[0m\n\u001b[0;32m  12469\u001b[0m     kwargs[\u001b[38;5;124m\"\u001b[39m\u001b[38;5;124mscale_offset\u001b[39m\u001b[38;5;124m\"\u001b[39m] \u001b[38;5;241m=\u001b[39m scale_offset\n\u001b[0;32m  12471\u001b[0m img \u001b[38;5;241m=\u001b[39m gd\u001b[38;5;241m.\u001b[39mdownload\u001b[38;5;241m.\u001b[39mBaseImage(image)\n\u001b[1;32m> 12472\u001b[0m \u001b[43mimg\u001b[49m\u001b[38;5;241;43m.\u001b[39;49m\u001b[43mdownload\u001b[49m\u001b[43m(\u001b[49m\u001b[43mfilename\u001b[49m\u001b[43m,\u001b[49m\u001b[43m \u001b[49m\u001b[43moverwrite\u001b[49m\u001b[38;5;241;43m=\u001b[39;49m\u001b[43moverwrite\u001b[49m\u001b[43m,\u001b[49m\u001b[43m \u001b[49m\u001b[43mnum_threads\u001b[49m\u001b[38;5;241;43m=\u001b[39;49m\u001b[43mnum_threads\u001b[49m\u001b[43m,\u001b[49m\u001b[43m \u001b[49m\u001b[38;5;241;43m*\u001b[39;49m\u001b[38;5;241;43m*\u001b[39;49m\u001b[43mkwargs\u001b[49m\u001b[43m)\u001b[49m\n",
      "File \u001b[1;32m~\\Documents\\coding-projects\\CDL_FireSeverity\\venv\\Lib\\site-packages\\geedim\\download.py:974\u001b[0m, in \u001b[0;36mBaseImage.download\u001b[1;34m(self, filename, overwrite, num_threads, max_tile_size, max_tile_dim, **kwargs)\u001b[0m\n\u001b[0;32m    972\u001b[0m futures \u001b[38;5;241m=\u001b[39m [executor\u001b[38;5;241m.\u001b[39msubmit(download_tile, tile) \u001b[38;5;28;01mfor\u001b[39;00m tile \u001b[38;5;129;01min\u001b[39;00m tiles]\n\u001b[0;32m    973\u001b[0m \u001b[38;5;28;01mtry\u001b[39;00m:\n\u001b[1;32m--> 974\u001b[0m \u001b[43m    \u001b[49m\u001b[38;5;28;43;01mfor\u001b[39;49;00m\u001b[43m \u001b[49m\u001b[43mfuture\u001b[49m\u001b[43m \u001b[49m\u001b[38;5;129;43;01min\u001b[39;49;00m\u001b[43m \u001b[49m\u001b[43mas_completed\u001b[49m\u001b[43m(\u001b[49m\u001b[43mfutures\u001b[49m\u001b[43m)\u001b[49m\u001b[43m:\u001b[49m\n\u001b[0;32m    975\u001b[0m \u001b[43m        \u001b[49m\u001b[43mfuture\u001b[49m\u001b[38;5;241;43m.\u001b[39;49m\u001b[43mresult\u001b[49m\u001b[43m(\u001b[49m\u001b[43m)\u001b[49m\n\u001b[0;32m    976\u001b[0m \u001b[38;5;28;01mexcept\u001b[39;00m \u001b[38;5;167;01mException\u001b[39;00m \u001b[38;5;28;01mas\u001b[39;00m ex:\n",
      "File \u001b[1;32m~\\AppData\\Local\\Programs\\Python\\Python313\\Lib\\concurrent\\futures\\_base.py:243\u001b[0m, in \u001b[0;36mas_completed\u001b[1;34m(fs, timeout)\u001b[0m\n\u001b[0;32m    238\u001b[0m     \u001b[38;5;28;01mif\u001b[39;00m wait_timeout \u001b[38;5;241m<\u001b[39m \u001b[38;5;241m0\u001b[39m:\n\u001b[0;32m    239\u001b[0m         \u001b[38;5;28;01mraise\u001b[39;00m \u001b[38;5;167;01mTimeoutError\u001b[39;00m(\n\u001b[0;32m    240\u001b[0m                 \u001b[38;5;124m'\u001b[39m\u001b[38;5;132;01m%d\u001b[39;00m\u001b[38;5;124m (of \u001b[39m\u001b[38;5;132;01m%d\u001b[39;00m\u001b[38;5;124m) futures unfinished\u001b[39m\u001b[38;5;124m'\u001b[39m \u001b[38;5;241m%\u001b[39m (\n\u001b[0;32m    241\u001b[0m                 \u001b[38;5;28mlen\u001b[39m(pending), total_futures))\n\u001b[1;32m--> 243\u001b[0m \u001b[43mwaiter\u001b[49m\u001b[38;5;241;43m.\u001b[39;49m\u001b[43mevent\u001b[49m\u001b[38;5;241;43m.\u001b[39;49m\u001b[43mwait\u001b[49m\u001b[43m(\u001b[49m\u001b[43mwait_timeout\u001b[49m\u001b[43m)\u001b[49m\n\u001b[0;32m    245\u001b[0m \u001b[38;5;28;01mwith\u001b[39;00m waiter\u001b[38;5;241m.\u001b[39mlock:\n\u001b[0;32m    246\u001b[0m     finished \u001b[38;5;241m=\u001b[39m waiter\u001b[38;5;241m.\u001b[39mfinished_futures\n",
      "File \u001b[1;32m~\\AppData\\Local\\Programs\\Python\\Python313\\Lib\\threading.py:659\u001b[0m, in \u001b[0;36mEvent.wait\u001b[1;34m(self, timeout)\u001b[0m\n\u001b[0;32m    657\u001b[0m signaled \u001b[38;5;241m=\u001b[39m \u001b[38;5;28mself\u001b[39m\u001b[38;5;241m.\u001b[39m_flag\n\u001b[0;32m    658\u001b[0m \u001b[38;5;28;01mif\u001b[39;00m \u001b[38;5;129;01mnot\u001b[39;00m signaled:\n\u001b[1;32m--> 659\u001b[0m     signaled \u001b[38;5;241m=\u001b[39m \u001b[38;5;28;43mself\u001b[39;49m\u001b[38;5;241;43m.\u001b[39;49m\u001b[43m_cond\u001b[49m\u001b[38;5;241;43m.\u001b[39;49m\u001b[43mwait\u001b[49m\u001b[43m(\u001b[49m\u001b[43mtimeout\u001b[49m\u001b[43m)\u001b[49m\n\u001b[0;32m    660\u001b[0m \u001b[38;5;28;01mreturn\u001b[39;00m signaled\n",
      "File \u001b[1;32m~\\AppData\\Local\\Programs\\Python\\Python313\\Lib\\threading.py:359\u001b[0m, in \u001b[0;36mCondition.wait\u001b[1;34m(self, timeout)\u001b[0m\n\u001b[0;32m    357\u001b[0m \u001b[38;5;28;01mtry\u001b[39;00m:    \u001b[38;5;66;03m# restore state no matter what (e.g., KeyboardInterrupt)\u001b[39;00m\n\u001b[0;32m    358\u001b[0m     \u001b[38;5;28;01mif\u001b[39;00m timeout \u001b[38;5;129;01mis\u001b[39;00m \u001b[38;5;28;01mNone\u001b[39;00m:\n\u001b[1;32m--> 359\u001b[0m         \u001b[43mwaiter\u001b[49m\u001b[38;5;241;43m.\u001b[39;49m\u001b[43macquire\u001b[49m\u001b[43m(\u001b[49m\u001b[43m)\u001b[49m\n\u001b[0;32m    360\u001b[0m         gotit \u001b[38;5;241m=\u001b[39m \u001b[38;5;28;01mTrue\u001b[39;00m\n\u001b[0;32m    361\u001b[0m     \u001b[38;5;28;01melse\u001b[39;00m:\n",
      "\u001b[1;31mKeyboardInterrupt\u001b[0m: "
     ]
    }
   ],
   "source": [
    "# geemap.download_ee_image_collection(collection, out_dir, scale=30)"
   ]
  },
  {
   "cell_type": "code",
   "execution_count": 6,
   "id": "faea37dc-3383-490e-b83b-a995f06e5184",
   "metadata": {},
   "outputs": [
    {
     "data": {
      "text/html": [
       "\n",
       "            <style>\n",
       "                .geemap-dark {\n",
       "                    --jp-widgets-color: white;\n",
       "                    --jp-widgets-label-color: white;\n",
       "                    --jp-ui-font-color1: white;\n",
       "                    --jp-layout-color2: #454545;\n",
       "                    background-color: #383838;\n",
       "                }\n",
       "\n",
       "                .geemap-dark .jupyter-button {\n",
       "                    --jp-layout-color3: #383838;\n",
       "                }\n",
       "\n",
       "                .geemap-colab {\n",
       "                    background-color: var(--colab-primary-surface-color, white);\n",
       "                }\n",
       "\n",
       "                .geemap-colab .jupyter-button {\n",
       "                    --jp-layout-color3: var(--colab-primary-surface-color, white);\n",
       "                }\n",
       "            </style>\n",
       "            "
      ],
      "text/plain": [
       "<IPython.core.display.HTML object>"
      ]
     },
     "metadata": {},
     "output_type": "display_data"
    },
    {
     "ename": "ValueError",
     "evalue": "features must be an ee.FeatureCollection.",
     "output_type": "error",
     "traceback": [
      "\u001b[1;31m---------------------------------------------------------------------------\u001b[0m",
      "\u001b[1;31mValueError\u001b[0m                                Traceback (most recent call last)",
      "\u001b[1;32m~\\AppData\\Local\\Temp\\ipykernel_24420\\2553495185.py\u001b[0m in \u001b[0;36m?\u001b[1;34m()\u001b[0m\n\u001b[1;32m----> 1\u001b[1;33m geemap.download_ee_image_tiles(\n\u001b[0m\u001b[0;32m      2\u001b[0m     \u001b[0mcomposite\u001b[0m\u001b[1;33m,\u001b[0m \u001b[0mout_dir\u001b[0m\u001b[1;33m,\u001b[0m \u001b[0mprefix\u001b[0m\u001b[1;33m=\u001b[0m\u001b[1;34m\"landsat_\"\u001b[0m\u001b[1;33m,\u001b[0m \u001b[0mcrs\u001b[0m\u001b[1;33m=\u001b[0m\u001b[1;34m\"EPSG:3857\"\u001b[0m\u001b[1;33m,\u001b[0m \u001b[0mscale\u001b[0m\u001b[1;33m=\u001b[0m\u001b[1;36m30\u001b[0m\u001b[1;33m\u001b[0m\u001b[1;33m\u001b[0m\u001b[0m\n\u001b[0;32m      3\u001b[0m \u001b[1;33m)\u001b[0m\u001b[1;33m\u001b[0m\u001b[1;33m\u001b[0m\u001b[0m\n",
      "\u001b[1;32m~\\Documents\\coding-projects\\CDL_FireSeverity\\venv\\Lib\\site-packages\\geemap\\common.py\u001b[0m in \u001b[0;36m?\u001b[1;34m(image, features, out_dir, prefix, crs, crs_transform, scale, resampling, dtype, overwrite, num_threads, max_tile_size, max_tile_dim, shape, scale_offset, unmask_value, column, **kwargs)\u001b[0m\n\u001b[0;32m  12533\u001b[0m     \u001b[1;32mif\u001b[0m \u001b[0mos\u001b[0m\u001b[1;33m.\u001b[0m\u001b[0menviron\u001b[0m\u001b[1;33m.\u001b[0m\u001b[0mget\u001b[0m\u001b[1;33m(\u001b[0m\u001b[1;34m\"USE_MKDOCS\"\u001b[0m\u001b[1;33m)\u001b[0m \u001b[1;32mis\u001b[0m \u001b[1;32mnot\u001b[0m \u001b[1;32mNone\u001b[0m\u001b[1;33m:\u001b[0m\u001b[1;33m\u001b[0m\u001b[1;33m\u001b[0m\u001b[0m\n\u001b[0;32m  12534\u001b[0m         \u001b[1;32mreturn\u001b[0m\u001b[1;33m\u001b[0m\u001b[1;33m\u001b[0m\u001b[0m\n\u001b[0;32m  12535\u001b[0m \u001b[1;33m\u001b[0m\u001b[0m\n\u001b[0;32m  12536\u001b[0m     \u001b[1;32mif\u001b[0m \u001b[1;32mnot\u001b[0m \u001b[0misinstance\u001b[0m\u001b[1;33m(\u001b[0m\u001b[0mfeatures\u001b[0m\u001b[1;33m,\u001b[0m \u001b[0mee\u001b[0m\u001b[1;33m.\u001b[0m\u001b[0mFeatureCollection\u001b[0m\u001b[1;33m)\u001b[0m\u001b[1;33m:\u001b[0m\u001b[1;33m\u001b[0m\u001b[1;33m\u001b[0m\u001b[0m\n\u001b[1;32m> 12537\u001b[1;33m         \u001b[1;32mraise\u001b[0m \u001b[0mValueError\u001b[0m\u001b[1;33m(\u001b[0m\u001b[1;34m\"features must be an ee.FeatureCollection.\"\u001b[0m\u001b[1;33m)\u001b[0m\u001b[1;33m\u001b[0m\u001b[1;33m\u001b[0m\u001b[0m\n\u001b[0m\u001b[0;32m  12538\u001b[0m \u001b[1;33m\u001b[0m\u001b[0m\n\u001b[0;32m  12539\u001b[0m     \u001b[1;32mif\u001b[0m \u001b[0mout_dir\u001b[0m \u001b[1;32mis\u001b[0m \u001b[1;32mNone\u001b[0m\u001b[1;33m:\u001b[0m\u001b[1;33m\u001b[0m\u001b[1;33m\u001b[0m\u001b[0m\n\u001b[0;32m  12540\u001b[0m         \u001b[0mout_dir\u001b[0m \u001b[1;33m=\u001b[0m \u001b[0mos\u001b[0m\u001b[1;33m.\u001b[0m\u001b[0mgetcwd\u001b[0m\u001b[1;33m(\u001b[0m\u001b[1;33m)\u001b[0m\u001b[1;33m\u001b[0m\u001b[1;33m\u001b[0m\u001b[0m\n",
      "\u001b[1;31mValueError\u001b[0m: features must be an ee.FeatureCollection."
     ]
    }
   ],
   "source": [
    "# geemap.download_ee_image_tiles(\n",
    "#     composite, features, out_dir, prefix=\"landsat_\", crs=\"EPSG:3857\", scale=30\n",
    "# )"
   ]
  },
  {
   "cell_type": "code",
   "execution_count": null,
   "id": "1c9b5a6b-3dd0-4aef-ac11-69092ebf3475",
   "metadata": {},
   "outputs": [],
   "source": [
    "\n"
   ]
  },
  {
   "cell_type": "code",
   "execution_count": null,
   "id": "4d2fff9c-63ee-4444-880e-92c16ee3c736",
   "metadata": {},
   "outputs": [],
   "source": []
  },
  {
   "cell_type": "code",
   "execution_count": null,
   "id": "92689725-8351-4625-9211-6b10fcad9dcc",
   "metadata": {},
   "outputs": [],
   "source": []
  },
  {
   "cell_type": "code",
   "execution_count": 8,
   "id": "6fa58851-0cf9-488c-90c4-1945fa086f17",
   "metadata": {},
   "outputs": [
    {
     "data": {
      "text/html": [
       "\n",
       "            <style>\n",
       "                .geemap-dark {\n",
       "                    --jp-widgets-color: white;\n",
       "                    --jp-widgets-label-color: white;\n",
       "                    --jp-ui-font-color1: white;\n",
       "                    --jp-layout-color2: #454545;\n",
       "                    background-color: #383838;\n",
       "                }\n",
       "\n",
       "                .geemap-dark .jupyter-button {\n",
       "                    --jp-layout-color3: #383838;\n",
       "                }\n",
       "\n",
       "                .geemap-colab {\n",
       "                    background-color: var(--colab-primary-surface-color, white);\n",
       "                }\n",
       "\n",
       "                .geemap-colab .jupyter-button {\n",
       "                    --jp-layout-color3: var(--colab-primary-surface-color, white);\n",
       "                }\n",
       "            </style>\n",
       "            "
      ],
      "text/plain": [
       "<IPython.core.display.HTML object>"
      ]
     },
     "metadata": {},
     "output_type": "display_data"
    },
    {
     "name": "stdout",
     "output_type": "stream",
     "text": [
      "Generating URL ...\n",
      "Downloading data from https://earthengine.googleapis.com/v1/projects/ee-samettenborough/thumbnails/93952631faf45739509ad153c2bd1465-c0bc5d8e88bdae1efb3e37a7a21b138d:getPixels\n",
      "Please wait ...\n",
      "An error occurred while downloading.\n",
      "Error downloading image: Expecting value: line 1 column 1 (char 0)\n",
      "Generating URL ...\n",
      "Downloading data from https://earthengine.googleapis.com/v1/projects/ee-samettenborough/thumbnails/59d8827dcbd62ea29478dd0689ef08ad-a0a90d83e5059f5b70a8f36ad5c4cad9:getPixels\n",
      "Please wait ...\n",
      "An error occurred while downloading.\n",
      "Error downloading image: Expecting value: line 1 column 1 (char 0)\n",
      "Generating URL ...\n",
      "Downloading data from https://earthengine.googleapis.com/v1/projects/ee-samettenborough/thumbnails/dc14fba45089530b692b86bc5e34e0d5-6180c4cbeba97a5d2c595118773da415:getPixels\n",
      "Please wait ...\n",
      "An error occurred while downloading.\n",
      "Error downloading image: Expecting value: line 1 column 1 (char 0)\n",
      "Generating URL ...\n"
     ]
    },
    {
     "name": "stderr",
     "output_type": "stream",
     "text": [
      "\n",
      "KeyboardInterrupt\n",
      "\n"
     ]
    }
   ],
   "source": [
    "# Define your study area in Guatemala (example coordinates)\n",
    "# Replace these coordinates with your actual study area\n",
    "guatemala_aoi = ee.Geometry.Polygon([\n",
    "        [-90.1517107831, 15.5726233568],\n",
    "        [-89.1726311637, 15.5726233568],\n",
    "        [-89.1726311637, 16.29215598],\n",
    "        [-90.1517107831, 16.29215598],\n",
    "        [-90.1517107831, 15.5726233568]\n",
    "])\n",
    "\n",
    "# Set your output folder\n",
    "output_folder = \"landsat_images\"\n",
    "\n",
    "# Download images\n",
    "download_landsat_images(\n",
    "    aoi=guatemala_aoi,\n",
    "    output_folder=output_folder,\n",
    "    start_date='2023-01-01',\n",
    "    end_date='2023-03-01',\n",
    "    cloud_threshold=20,  # Adjust based on your needs\n",
    "    max_images=3\n",
    ")"
   ]
  },
  {
   "cell_type": "code",
   "execution_count": 5,
   "id": "c0579134-887d-4058-9af7-792286f520f2",
   "metadata": {},
   "outputs": [
    {
     "data": {
      "text/html": [
       "\n",
       "            <style>\n",
       "                .geemap-dark {\n",
       "                    --jp-widgets-color: white;\n",
       "                    --jp-widgets-label-color: white;\n",
       "                    --jp-ui-font-color1: white;\n",
       "                    --jp-layout-color2: #454545;\n",
       "                    background-color: #383838;\n",
       "                }\n",
       "\n",
       "                .geemap-dark .jupyter-button {\n",
       "                    --jp-layout-color3: #383838;\n",
       "                }\n",
       "\n",
       "                .geemap-colab {\n",
       "                    background-color: var(--colab-primary-surface-color, white);\n",
       "                }\n",
       "\n",
       "                .geemap-colab .jupyter-button {\n",
       "                    --jp-layout-color3: var(--colab-primary-surface-color, white);\n",
       "                }\n",
       "            </style>\n",
       "            "
      ],
      "text/plain": [
       "<IPython.core.display.HTML object>"
      ]
     },
     "metadata": {},
     "output_type": "display_data"
    },
    {
     "data": {
      "application/vnd.jupyter.widget-view+json": {
       "model_id": "3dcb59f13859428d989185110215b513",
       "version_major": 2,
       "version_minor": 0
      },
      "text/plain": [
       "Map(center=[15.93272670286817, -89.66217097339984], controls=(WidgetControl(options=['position', 'transparent_…"
      ]
     },
     "execution_count": 5,
     "metadata": {},
     "output_type": "execute_result"
    }
   ],
   "source": [
    "Map = geemap.Map()\n",
    "Map.addLayer(guatemala_aoi, {}, \"Fire AOI\")\n",
    "Map.centerObject(guatemala_aoi, 7)\n",
    "Map"
   ]
  },
  {
   "cell_type": "code",
   "execution_count": null,
   "id": "db2d7b7e-6fc6-419a-bda5-ab6836cb01dd",
   "metadata": {},
   "outputs": [],
   "source": []
  },
  {
   "cell_type": "code",
   "execution_count": null,
   "id": "8a09acf8-92d7-4d7a-9f34-98f29b5cdb84",
   "metadata": {},
   "outputs": [],
   "source": []
  },
  {
   "cell_type": "code",
   "execution_count": null,
   "id": "e6690eb7-8255-417c-967d-3452e7aff93b",
   "metadata": {},
   "outputs": [],
   "source": []
  },
  {
   "cell_type": "code",
   "execution_count": null,
   "id": "5e9875a8-6799-4ce8-a87d-747ea10cc0d6",
   "metadata": {},
   "outputs": [],
   "source": []
  },
  {
   "cell_type": "code",
   "execution_count": null,
   "id": "84061743-6e9d-43aa-881a-e736d0af32c1",
   "metadata": {},
   "outputs": [],
   "source": []
  },
  {
   "cell_type": "code",
   "execution_count": null,
   "id": "bdcace04-f07a-4d4f-a765-5c82c76d1eb6",
   "metadata": {},
   "outputs": [],
   "source": []
  },
  {
   "cell_type": "code",
   "execution_count": null,
   "id": "1f0e2d42-5e57-4b00-a0c5-9cf462e6594e",
   "metadata": {},
   "outputs": [],
   "source": []
  },
  {
   "cell_type": "code",
   "execution_count": 20,
   "id": "f9897f69-2132-4ee9-8472-fb048789de7b",
   "metadata": {},
   "outputs": [
    {
     "data": {
      "text/html": [
       "\n",
       "            <style>\n",
       "                .geemap-dark {\n",
       "                    --jp-widgets-color: white;\n",
       "                    --jp-widgets-label-color: white;\n",
       "                    --jp-ui-font-color1: white;\n",
       "                    --jp-layout-color2: #454545;\n",
       "                    background-color: #383838;\n",
       "                }\n",
       "\n",
       "                .geemap-dark .jupyter-button {\n",
       "                    --jp-layout-color3: #383838;\n",
       "                }\n",
       "\n",
       "                .geemap-colab {\n",
       "                    background-color: var(--colab-primary-surface-color, white);\n",
       "                }\n",
       "\n",
       "                .geemap-colab .jupyter-button {\n",
       "                    --jp-layout-color3: var(--colab-primary-surface-color, white);\n",
       "                }\n",
       "            </style>\n",
       "            "
      ],
      "text/plain": [
       "<IPython.core.display.HTML object>"
      ]
     },
     "metadata": {},
     "output_type": "display_data"
    }
   ],
   "source": [
    "def get_least_cloudy_landsat(\n",
    "    region,\n",
    "    start_date,\n",
    "    end_date,\n",
    "    cloud_threshold=20\n",
    "):\n",
    "    \"\"\"\n",
    "    Get the least cloudy Landsat 8 image for a given time range\n",
    "    \n",
    "    Parameters:\n",
    "    region (ee.Geometry): Region of interest\n",
    "    start_date (str): Start date in 'YYYY-MM-DD' format\n",
    "    end_date (str): End date in 'YYYY-MM-DD' format\n",
    "    cloud_threshold (float): Maximum cloud cover percentage\n",
    "    \n",
    "    Returns:\n",
    "    ee.Image: Least cloudy image\n",
    "    \"\"\"\n",
    "    # Import Landsat 8 Collection 2 Level 2\n",
    "    collection = ee.ImageCollection('LANDSAT/LC08/C02/T1_L2')\n",
    "    \n",
    "    # Filter collection\n",
    "    filtered = collection.filterBounds(region)\\\n",
    "                        .filterDate(start_date, end_date)\\\n",
    "                        .filter(ee.Filter.lt('CLOUD_COVER', cloud_threshold))\\\n",
    "                        .sort('CLOUD_COVER')  # Sort by cloud cover\n",
    "    \n",
    "    # Get the least cloudy image\n",
    "    image = filtered.first()\n",
    "    \n",
    "    # Select RGB bands and scale them\n",
    "    # For Landsat 8 C2 L2, RGB = B4, B3, B2\n",
    "    rgb_image = image.select(['SR_B4', 'SR_B3', 'SR_B2'])\\\n",
    "                     .multiply(0.0000275)\\\n",
    "                     .add(-0.2)  # Apply scaling factors\n",
    "    \n",
    "    return rgb_image, image.get('CLOUD_COVER')\n",
    "\n",
    "def create_fishnet_and_download(\n",
    "    image,\n",
    "    region,\n",
    "    out_dir,\n",
    "    date_str,\n",
    "    rows=2,\n",
    "    cols=2,\n",
    "    prefix=\"landsat8_rgb_\",\n",
    "    crs=\"EPSG:3857\",\n",
    "    scale=30\n",
    "):\n",
    "    \"\"\"\n",
    "    Creates a fishnet grid and downloads RGB image tiles\n",
    "    \"\"\"\n",
    "    # Create fishnet grid\n",
    "    features = geemap.fishnet(region, rows=rows, cols=cols)\n",
    "    \n",
    "    # Download tiles\n",
    "    geemap.download_ee_image_tiles(\n",
    "        image=image,\n",
    "        features=features,\n",
    "        out_dir=out_dir,\n",
    "        prefix=f\"{prefix}{date_str}_\",\n",
    "        crs=crs,\n",
    "        scale=scale\n",
    "    )"
   ]
  },
  {
   "cell_type": "code",
   "execution_count": 25,
   "id": "9bb0d09a-7a38-4811-a487-184123abe904",
   "metadata": {},
   "outputs": [
    {
     "data": {
      "text/html": [
       "\n",
       "            <style>\n",
       "                .geemap-dark {\n",
       "                    --jp-widgets-color: white;\n",
       "                    --jp-widgets-label-color: white;\n",
       "                    --jp-ui-font-color1: white;\n",
       "                    --jp-layout-color2: #454545;\n",
       "                    background-color: #383838;\n",
       "                }\n",
       "\n",
       "                .geemap-dark .jupyter-button {\n",
       "                    --jp-layout-color3: #383838;\n",
       "                }\n",
       "\n",
       "                .geemap-colab {\n",
       "                    background-color: var(--colab-primary-surface-color, white);\n",
       "                }\n",
       "\n",
       "                .geemap-colab .jupyter-button {\n",
       "                    --jp-layout-color3: var(--colab-primary-surface-color, white);\n",
       "                }\n",
       "            </style>\n",
       "            "
      ],
      "text/plain": [
       "<IPython.core.display.HTML object>"
      ]
     },
     "metadata": {},
     "output_type": "display_data"
    }
   ],
   "source": [
    "import ee\n",
    "import geemap\n",
    "import os\n",
    "from datetime import datetime\n",
    "\n",
    "# Initialize Earth Engine with your project\n",
    "ee.Initialize(project=\"ee-samettenborough\")\n",
    "\n",
    "def get_least_cloudy_landsat(region, start_date, end_date, cloud_threshold=20):\n",
    "    \"\"\"\n",
    "    Get the least cloudy Landsat 8 image for a given time range\n",
    "    \"\"\"\n",
    "    # Import Landsat 8 Collection 2 Level 2\n",
    "    collection = ee.ImageCollection('LANDSAT/LC08/C02/T1_L2')\n",
    "    \n",
    "    # Filter collection\n",
    "    filtered = collection.filterBounds(region)\\\n",
    "                        .filterDate(start_date, end_date)\\\n",
    "                        .filter(ee.Filter.lt('CLOUD_COVER', cloud_threshold))\\\n",
    "                        .sort('CLOUD_COVER')\n",
    "    \n",
    "    # Select RGB bands and scale them\n",
    "    rgb_image = image.select(['SR_B4', 'SR_B3', 'SR_B2'])\\\n",
    "                     .multiply(0.0000275)\\\n",
    "                     .add(-0.2)\n",
    "    \n",
    "    return rgb_image, image.get('CLOUD_COVER')\n",
    "\n",
    "# Create a map\n",
    "Map = geemap.Map()\n",
    "\n",
    "# Define your parameters\n",
    "start_date = '2023-01-01'\n",
    "end_date = '2023-03-01'\n",
    "cloud_threshold = 20\n",
    "\n",
    "# Define region (Guatemala example - modify these coordinates for your area)\n",
    "region = ee.Geometry.BBox(-90.1517107831, 15.5726233568, -89.1726311637, 16.29215598)\n",
    "\n",
    "# Get the least cloudy image\n",
    "rgb_image, cloud_cover = get_least_cloudy_landsat(\n",
    "    region=region,\n",
    "    start_date=start_date,\n",
    "    end_date=end_date,\n",
    "    cloud_threshold=cloud_threshold\n",
    ")\n",
    "\n",
    "# Add the region boundary to the map\n",
    "Map.addLayer(region, {'color': 'red'}, 'Study Area')\n",
    "\n",
    "# Add the RGB image to the map\n",
    "vis_params = {\n",
    "    'min': 0,\n",
    "    'max': 0.3,\n",
    "    'gamma': 1.4\n",
    "}\n",
    "Map.addLayer(rgb_image, vis_params, 'Landsat 8 RGB')\n",
    "\n",
    "# Center the map on the region\n",
    "Map.centerObject(region, 10)"
   ]
  },
  {
   "cell_type": "code",
   "execution_count": 26,
   "id": "b45dabc5-d6af-4a9c-a7f6-c546a493e9a7",
   "metadata": {},
   "outputs": [
    {
     "data": {
      "text/html": [
       "\n",
       "            <style>\n",
       "                .geemap-dark {\n",
       "                    --jp-widgets-color: white;\n",
       "                    --jp-widgets-label-color: white;\n",
       "                    --jp-ui-font-color1: white;\n",
       "                    --jp-layout-color2: #454545;\n",
       "                    background-color: #383838;\n",
       "                }\n",
       "\n",
       "                .geemap-dark .jupyter-button {\n",
       "                    --jp-layout-color3: #383838;\n",
       "                }\n",
       "\n",
       "                .geemap-colab {\n",
       "                    background-color: var(--colab-primary-surface-color, white);\n",
       "                }\n",
       "\n",
       "                .geemap-colab .jupyter-button {\n",
       "                    --jp-layout-color3: var(--colab-primary-surface-color, white);\n",
       "                }\n",
       "            </style>\n",
       "            "
      ],
      "text/plain": [
       "<IPython.core.display.HTML object>"
      ]
     },
     "metadata": {},
     "output_type": "display_data"
    },
    {
     "data": {
      "application/vnd.jupyter.widget-view+json": {
       "model_id": "2ffed108fc6445259caff24ab1553c34",
       "version_major": 2,
       "version_minor": 0
      },
      "text/plain": [
       "Map(center=[15.932358717055706, -89.66217097339984], controls=(WidgetControl(options=['position', 'transparent…"
      ]
     },
     "execution_count": 26,
     "metadata": {},
     "output_type": "execute_result"
    }
   ],
   "source": [
    "Map"
   ]
  },
  {
   "cell_type": "code",
   "execution_count": null,
   "id": "963eae75-2ff0-4db5-bf04-51f62734596f",
   "metadata": {},
   "outputs": [],
   "source": []
  },
  {
   "cell_type": "code",
   "execution_count": null,
   "id": "64242cc4-8336-443f-bfea-37bc18c97c4c",
   "metadata": {},
   "outputs": [],
   "source": []
  },
  {
   "cell_type": "code",
   "execution_count": 34,
   "id": "8b1dc588-7507-4810-935c-982375d17af7",
   "metadata": {},
   "outputs": [
    {
     "data": {
      "text/html": [
       "\n",
       "            <style>\n",
       "                .geemap-dark {\n",
       "                    --jp-widgets-color: white;\n",
       "                    --jp-widgets-label-color: white;\n",
       "                    --jp-ui-font-color1: white;\n",
       "                    --jp-layout-color2: #454545;\n",
       "                    background-color: #383838;\n",
       "                }\n",
       "\n",
       "                .geemap-dark .jupyter-button {\n",
       "                    --jp-layout-color3: #383838;\n",
       "                }\n",
       "\n",
       "                .geemap-colab {\n",
       "                    background-color: var(--colab-primary-surface-color, white);\n",
       "                }\n",
       "\n",
       "                .geemap-colab .jupyter-button {\n",
       "                    --jp-layout-color3: var(--colab-primary-surface-color, white);\n",
       "                }\n",
       "            </style>\n",
       "            "
      ],
      "text/plain": [
       "<IPython.core.display.HTML object>"
      ]
     },
     "metadata": {},
     "output_type": "display_data"
    },
    {
     "name": "stdout",
     "output_type": "stream",
     "text": [
      "Found 2 unique path/row combinations:\n",
      "Path: 19, Row: 49\n",
      "Path: 20, Row: 49\n",
      "Downloading 1/9: C:\\Users\\samet/Downloads/landsat_rgb\\landsat8_rgb_p19r49_20250117_1.tif\n"
     ]
    },
    {
     "data": {
      "application/vnd.jupyter.widget-view+json": {
       "model_id": "7ff1c6d0149a41698bb94c93393f99b1",
       "version_major": 2,
       "version_minor": 0
      },
      "text/plain": [
       "landsat8_rgb_p19r49_20250117_1.tif: |                                 | 0.00/60.6M (raw) [  0.0%] in 00:00 (et…"
      ]
     },
     "metadata": {},
     "output_type": "display_data"
    },
    {
     "name": "stdout",
     "output_type": "stream",
     "text": [
      "Downloading 2/9: C:\\Users\\samet/Downloads/landsat_rgb\\landsat8_rgb_p19r49_20250117_2.tif\n"
     ]
    },
    {
     "data": {
      "application/vnd.jupyter.widget-view+json": {
       "model_id": "eed6907b980647d0b8a2b861131c3a1e",
       "version_major": 2,
       "version_minor": 0
      },
      "text/plain": [
       "landsat8_rgb_p19r49_20250117_2.tif: |                                 | 0.00/60.5M (raw) [  0.0%] in 00:00 (et…"
      ]
     },
     "metadata": {},
     "output_type": "display_data"
    },
    {
     "name": "stdout",
     "output_type": "stream",
     "text": [
      "Downloading 3/9: C:\\Users\\samet/Downloads/landsat_rgb\\landsat8_rgb_p19r49_20250117_3.tif\n"
     ]
    },
    {
     "data": {
      "application/vnd.jupyter.widget-view+json": {
       "model_id": "940279b806b94634bdc63d5070d6982b",
       "version_major": 2,
       "version_minor": 0
      },
      "text/plain": [
       "landsat8_rgb_p19r49_20250117_3.tif: |                                 | 0.00/60.6M (raw) [  0.0%] in 00:00 (et…"
      ]
     },
     "metadata": {},
     "output_type": "display_data"
    },
    {
     "name": "stdout",
     "output_type": "stream",
     "text": [
      "Downloading 4/9: C:\\Users\\samet/Downloads/landsat_rgb\\landsat8_rgb_p19r49_20250117_4.tif\n"
     ]
    },
    {
     "data": {
      "application/vnd.jupyter.widget-view+json": {
       "model_id": "fba8f728f736463bbff4fe6c8ef51114",
       "version_major": 2,
       "version_minor": 0
      },
      "text/plain": [
       "landsat8_rgb_p19r49_20250117_4.tif: |                                 | 0.00/60.7M (raw) [  0.0%] in 00:00 (et…"
      ]
     },
     "metadata": {},
     "output_type": "display_data"
    },
    {
     "name": "stdout",
     "output_type": "stream",
     "text": [
      "Downloading 5/9: C:\\Users\\samet/Downloads/landsat_rgb\\landsat8_rgb_p19r49_20250117_5.tif\n"
     ]
    },
    {
     "data": {
      "application/vnd.jupyter.widget-view+json": {
       "model_id": "d11d132adbfb4467b38316653762345b",
       "version_major": 2,
       "version_minor": 0
      },
      "text/plain": [
       "landsat8_rgb_p19r49_20250117_5.tif: |                                 | 0.00/60.7M (raw) [  0.0%] in 00:00 (et…"
      ]
     },
     "metadata": {},
     "output_type": "display_data"
    },
    {
     "name": "stdout",
     "output_type": "stream",
     "text": [
      "Downloading 6/9: C:\\Users\\samet/Downloads/landsat_rgb\\landsat8_rgb_p19r49_20250117_6.tif\n"
     ]
    },
    {
     "data": {
      "application/vnd.jupyter.widget-view+json": {
       "model_id": "b140f5c9d5be4fef81fa1e6891026217",
       "version_major": 2,
       "version_minor": 0
      },
      "text/plain": [
       "landsat8_rgb_p19r49_20250117_6.tif: |                                 | 0.00/60.7M (raw) [  0.0%] in 00:00 (et…"
      ]
     },
     "metadata": {},
     "output_type": "display_data"
    },
    {
     "name": "stdout",
     "output_type": "stream",
     "text": [
      "Downloading 7/9: C:\\Users\\samet/Downloads/landsat_rgb\\landsat8_rgb_p19r49_20250117_7.tif\n"
     ]
    },
    {
     "data": {
      "application/vnd.jupyter.widget-view+json": {
       "model_id": "bb76e04b9ac74eb9af1d7c10489256dd",
       "version_major": 2,
       "version_minor": 0
      },
      "text/plain": [
       "landsat8_rgb_p19r49_20250117_7.tif: |                                 | 0.00/60.8M (raw) [  0.0%] in 00:00 (et…"
      ]
     },
     "metadata": {},
     "output_type": "display_data"
    },
    {
     "name": "stdout",
     "output_type": "stream",
     "text": [
      "Downloading 8/9: C:\\Users\\samet/Downloads/landsat_rgb\\landsat8_rgb_p19r49_20250117_8.tif\n"
     ]
    },
    {
     "data": {
      "application/vnd.jupyter.widget-view+json": {
       "model_id": "9ee35bf7194f4a6fa77e236d223df3d6",
       "version_major": 2,
       "version_minor": 0
      },
      "text/plain": [
       "landsat8_rgb_p19r49_20250117_8.tif: |                                 | 0.00/60.7M (raw) [  0.0%] in 00:00 (et…"
      ]
     },
     "metadata": {},
     "output_type": "display_data"
    },
    {
     "name": "stdout",
     "output_type": "stream",
     "text": [
      "Downloading 9/9: C:\\Users\\samet/Downloads/landsat_rgb\\landsat8_rgb_p19r49_20250117_9.tif\n"
     ]
    },
    {
     "data": {
      "application/vnd.jupyter.widget-view+json": {
       "model_id": "145542bc3c2e4e39adac8d3ea216b398",
       "version_major": 2,
       "version_minor": 0
      },
      "text/plain": [
       "landsat8_rgb_p19r49_20250117_9.tif: |                                 | 0.00/60.8M (raw) [  0.0%] in 00:00 (et…"
      ]
     },
     "metadata": {},
     "output_type": "display_data"
    },
    {
     "name": "stdout",
     "output_type": "stream",
     "text": [
      "Downloaded 9 tiles in 49.67551326751709 seconds.\n",
      "Processed Path 19, Row 49 - Cloud cover: 18.74%\n",
      "Downloading 1/9: C:\\Users\\samet/Downloads/landsat_rgb\\landsat8_rgb_p20r49_20250117_1.tif\n"
     ]
    },
    {
     "data": {
      "application/vnd.jupyter.widget-view+json": {
       "model_id": "98b6d60526f74faca5c073e5ac7b187c",
       "version_major": 2,
       "version_minor": 0
      },
      "text/plain": [
       "landsat8_rgb_p20r49_20250117_1.tif: |                                 | 0.00/60.6M (raw) [  0.0%] in 00:00 (et…"
      ]
     },
     "metadata": {},
     "output_type": "display_data"
    },
    {
     "name": "stdout",
     "output_type": "stream",
     "text": [
      "Downloading 2/9: C:\\Users\\samet/Downloads/landsat_rgb\\landsat8_rgb_p20r49_20250117_2.tif\n"
     ]
    },
    {
     "data": {
      "application/vnd.jupyter.widget-view+json": {
       "model_id": "1e59ed317d0345c6962a98af64554e52",
       "version_major": 2,
       "version_minor": 0
      },
      "text/plain": [
       "landsat8_rgb_p20r49_20250117_2.tif: |                                 | 0.00/60.5M (raw) [  0.0%] in 00:00 (et…"
      ]
     },
     "metadata": {},
     "output_type": "display_data"
    },
    {
     "name": "stdout",
     "output_type": "stream",
     "text": [
      "Downloading 3/9: C:\\Users\\samet/Downloads/landsat_rgb\\landsat8_rgb_p20r49_20250117_3.tif\n"
     ]
    },
    {
     "data": {
      "application/vnd.jupyter.widget-view+json": {
       "model_id": "29f1e3344ff54e9483fc17ec00722979",
       "version_major": 2,
       "version_minor": 0
      },
      "text/plain": [
       "landsat8_rgb_p20r49_20250117_3.tif: |                                 | 0.00/60.6M (raw) [  0.0%] in 00:00 (et…"
      ]
     },
     "metadata": {},
     "output_type": "display_data"
    },
    {
     "name": "stdout",
     "output_type": "stream",
     "text": [
      "Downloading 4/9: C:\\Users\\samet/Downloads/landsat_rgb\\landsat8_rgb_p20r49_20250117_4.tif\n"
     ]
    },
    {
     "data": {
      "application/vnd.jupyter.widget-view+json": {
       "model_id": "991491a4811849b4ba11bf4cf2206ca3",
       "version_major": 2,
       "version_minor": 0
      },
      "text/plain": [
       "landsat8_rgb_p20r49_20250117_4.tif: |                                 | 0.00/60.7M (raw) [  0.0%] in 00:00 (et…"
      ]
     },
     "metadata": {},
     "output_type": "display_data"
    },
    {
     "name": "stdout",
     "output_type": "stream",
     "text": [
      "Downloading 5/9: C:\\Users\\samet/Downloads/landsat_rgb\\landsat8_rgb_p20r49_20250117_5.tif\n"
     ]
    },
    {
     "data": {
      "application/vnd.jupyter.widget-view+json": {
       "model_id": "3ffea4d18069444c81743ab2bad9a2ac",
       "version_major": 2,
       "version_minor": 0
      },
      "text/plain": [
       "landsat8_rgb_p20r49_20250117_5.tif: |                                 | 0.00/60.7M (raw) [  0.0%] in 00:00 (et…"
      ]
     },
     "metadata": {},
     "output_type": "display_data"
    },
    {
     "name": "stdout",
     "output_type": "stream",
     "text": [
      "Downloading 6/9: C:\\Users\\samet/Downloads/landsat_rgb\\landsat8_rgb_p20r49_20250117_6.tif\n"
     ]
    },
    {
     "data": {
      "application/vnd.jupyter.widget-view+json": {
       "model_id": "a86434ecc60c41ebb59bedf85ade953c",
       "version_major": 2,
       "version_minor": 0
      },
      "text/plain": [
       "landsat8_rgb_p20r49_20250117_6.tif: |                                 | 0.00/60.7M (raw) [  0.0%] in 00:00 (et…"
      ]
     },
     "metadata": {},
     "output_type": "display_data"
    },
    {
     "name": "stdout",
     "output_type": "stream",
     "text": [
      "Downloading 7/9: C:\\Users\\samet/Downloads/landsat_rgb\\landsat8_rgb_p20r49_20250117_7.tif\n"
     ]
    },
    {
     "data": {
      "application/vnd.jupyter.widget-view+json": {
       "model_id": "0e044e30e53b40f1ab5d907ef9aa826a",
       "version_major": 2,
       "version_minor": 0
      },
      "text/plain": [
       "landsat8_rgb_p20r49_20250117_7.tif: |                                 | 0.00/60.8M (raw) [  0.0%] in 00:00 (et…"
      ]
     },
     "metadata": {},
     "output_type": "display_data"
    },
    {
     "name": "stdout",
     "output_type": "stream",
     "text": [
      "Downloading 8/9: C:\\Users\\samet/Downloads/landsat_rgb\\landsat8_rgb_p20r49_20250117_8.tif\n"
     ]
    },
    {
     "data": {
      "application/vnd.jupyter.widget-view+json": {
       "model_id": "b4d33822915340cf83396473767fb2ad",
       "version_major": 2,
       "version_minor": 0
      },
      "text/plain": [
       "landsat8_rgb_p20r49_20250117_8.tif: |                                 | 0.00/60.7M (raw) [  0.0%] in 00:00 (et…"
      ]
     },
     "metadata": {},
     "output_type": "display_data"
    },
    {
     "name": "stdout",
     "output_type": "stream",
     "text": [
      "Downloading 9/9: C:\\Users\\samet/Downloads/landsat_rgb\\landsat8_rgb_p20r49_20250117_9.tif\n"
     ]
    },
    {
     "data": {
      "application/vnd.jupyter.widget-view+json": {
       "model_id": "4388c693d4d4437197c738d9aef389bc",
       "version_major": 2,
       "version_minor": 0
      },
      "text/plain": [
       "landsat8_rgb_p20r49_20250117_9.tif: |                                 | 0.00/60.8M (raw) [  0.0%] in 00:00 (et…"
      ]
     },
     "metadata": {},
     "output_type": "display_data"
    },
    {
     "name": "stdout",
     "output_type": "stream",
     "text": [
      "Downloaded 9 tiles in 33.98576760292053 seconds.\n",
      "Processed Path 20, Row 49 - Cloud cover: 6.36%\n"
     ]
    },
    {
     "data": {
      "application/vnd.jupyter.widget-view+json": {
       "model_id": "1cd39502fd9f4757ac7845adc8d9e8ab",
       "version_major": 2,
       "version_minor": 0
      },
      "text/plain": [
       "Map(center=[15.932358717055706, -89.66217097339984], controls=(WidgetControl(options=['position', 'transparent…"
      ]
     },
     "execution_count": 34,
     "metadata": {},
     "output_type": "execute_result"
    }
   ],
   "source": [
    "def get_unique_path_rows(region, start_date, end_date):\n",
    "    \"\"\"\n",
    "    Get unique WRS path/row combinations for a region\n",
    "    \"\"\"\n",
    "    collection = ee.ImageCollection('LANDSAT/LC08/C02/T1_L2')\\\n",
    "        .filterBounds(region)\\\n",
    "        .filterDate(start_date, end_date)\n",
    "    \n",
    "    # Get unique path-row combinations\n",
    "    unique_pr = collection.aggregate_array('WRS_PATH')\\\n",
    "        .zip(collection.aggregate_array('WRS_ROW'))\\\n",
    "        .distinct()\n",
    "    \n",
    "    return unique_pr.getInfo()\n",
    "\n",
    "def get_least_cloudy_for_path_row(region, start_date, end_date, path, row, cloud_threshold=20):\n",
    "    \"\"\"\n",
    "    Get least cloudy image for specific path/row\n",
    "    \"\"\"\n",
    "    collection = ee.ImageCollection('LANDSAT/LC08/C02/T1_L2')\\\n",
    "        .filterBounds(region)\\\n",
    "        .filterDate(start_date, end_date)\\\n",
    "        .filter(ee.Filter.eq('WRS_PATH', path))\\\n",
    "        .filter(ee.Filter.eq('WRS_ROW', row))\\\n",
    "        .filter(ee.Filter.lt('CLOUD_COVER', cloud_threshold))\\\n",
    "        .sort('CLOUD_COVER')\n",
    "    \n",
    "    # Get the least cloudy image\n",
    "    image = collection.first()\n",
    "    \n",
    "    if image is None:\n",
    "        return None, None\n",
    "    \n",
    "    # Select RGB bands and scale them\n",
    "    rgb_image = image.select(['SR_B4', 'SR_B3', 'SR_B2'])\\\n",
    "        .multiply(0.0000275)\\\n",
    "        .add(-0.2)\n",
    "    \n",
    "    return rgb_image, image.get('CLOUD_COVER')\n",
    "\n",
    "# Create a map\n",
    "Map = geemap.Map()\n",
    "\n",
    "# Define your parameters\n",
    "start_date = '2023-01-01'\n",
    "end_date = '2023-03-01'\n",
    "cloud_threshold = 20\n",
    "\n",
    "# Define region (Guatemala example - modify these coordinates for your area)\n",
    "region = ee.Geometry.BBox(-90.1517107831, 15.5726233568, -89.1726311637, 16.29215598)\n",
    "\n",
    "# Get unique path/row combinations\n",
    "unique_path_rows = get_unique_path_rows(region, start_date, end_date)\n",
    "print(f\"Found {len(unique_path_rows)} unique path/row combinations:\")\n",
    "for path, row in unique_path_rows:\n",
    "    print(f\"Path: {path}, Row: {row}\")\n",
    "\n",
    "# Process each path/row combination\n",
    "vis_params = {\n",
    "    'min': 0,\n",
    "    'max': 0.3,\n",
    "    'gamma': 1.4\n",
    "}\n",
    "\n",
    "# Add the region boundary to the map\n",
    "Map.addLayer(region, {'color': 'red'}, 'Study Area')\n",
    "\n",
    "# Set up the output directory\n",
    "out_dir = os.path.expanduser(\"~/Downloads/landsat_rgb\")\n",
    "os.makedirs(out_dir, exist_ok=True)\n",
    "\n",
    "# Process each path/row combination\n",
    "for path, row in unique_path_rows:\n",
    "    rgb_image, cloud_cover = get_least_cloudy_for_path_row(\n",
    "        region=region,\n",
    "        start_date=start_date,\n",
    "        end_date=end_date,\n",
    "        path=path,\n",
    "        row=row,\n",
    "        cloud_threshold=cloud_threshold\n",
    "    )\n",
    "    \n",
    "    if rgb_image is not None:\n",
    "        # Add the RGB image to the map\n",
    "        layer_name = f'Landsat 8 RGB (Path {path}, Row {row})'\n",
    "        Map.addLayer(rgb_image, vis_params, layer_name)\n",
    "        \n",
    "        # Create fishnet grid for this path/row\n",
    "        features = geemap.fishnet(region, rows=2, cols=2)\n",
    "        grid_name = f'Download Grids (Path {path}, Row {row})'\n",
    "        Map.addLayer(features, {'color': 'yellow'}, grid_name)\n",
    "        \n",
    "        # Download the tiles\n",
    "        date_str = datetime.now().strftime('%Y%m%d')\n",
    "        prefix = f\"landsat8_rgb_p{path}r{row}_{date_str}_\"\n",
    "        \n",
    "        geemap.download_ee_image_tiles(\n",
    "            image=rgb_image,\n",
    "            features=features,\n",
    "            out_dir=out_dir,\n",
    "            prefix=prefix,\n",
    "            crs=\"EPSG:3857\",\n",
    "            scale=30\n",
    "        )\n",
    "        \n",
    "        print(f\"Processed Path {path}, Row {row} - Cloud cover: {cloud_cover.getInfo():.2f}%\")\n",
    "    else:\n",
    "        print(f\"No suitable images found for Path {path}, Row {row}\")\n",
    "\n",
    "# Center the map on the region\n",
    "Map.centerObject(region, 10)\n",
    "\n",
    "# Display the map\n",
    "Map"
   ]
  },
  {
   "cell_type": "code",
   "execution_count": null,
   "id": "6037956c-04e9-4a40-b7c4-a55aad8ef8fd",
   "metadata": {},
   "outputs": [],
   "source": [
    "def create_fishnet_and_download(\n",
    "    image,\n",
    "    region,\n",
    "    out_dir,\n",
    "    rows=2,\n",
    "    cols=2,\n",
    "    prefix=\"landsat_\",\n",
    "    crs=\"EPSG:3857\",\n",
    "    scale=30\n",
    "):\n",
    "    \"\"\"\n",
    "    Creates a fishnet grid and downloads image tiles without visualization\n",
    "    \n",
    "    Parameters:\n",
    "    image (ee.Image): Earth Engine image to download\n",
    "    region (ee.Geometry): Region to download\n",
    "    out_dir (str): Output directory path\n",
    "    rows (int): Number of rows in the grid\n",
    "    cols (int): Number of columns in the grid\n",
    "    prefix (str): Prefix for output filenames\n",
    "    crs (str): Coordinate reference system\n",
    "    scale (int): Resolution in meters\n",
    "    \"\"\"\n",
    "    # Create fishnet grid\n",
    "    features = geemap.fishnet(region, rows=rows, cols=cols)\n",
    "    \n",
    "    # Download tiles\n",
    "    geemap.download_ee_image_tiles(\n",
    "        image=image,\n",
    "        features=features,\n",
    "        out_dir=out_dir,\n",
    "        prefix=prefix,\n",
    "        crs=crs,\n",
    "        scale=scale\n",
    "    )\n",
    "    \n",
    "# Initialize Earth Engine with your project\n",
    "ee.Initialize(project=\"ee-samettenborough\")\n",
    "\n",
    "# Set output directory\n",
    "out_dir = os.path.expanduser(\"~/Downloads/landsat_tiles\")\n",
    "os.makedirs(out_dir, exist_ok=True)\n",
    "\n",
    "# Load the image\n",
    "image = ee.Image(\"LANDSAT/LE7_TOA_5YEAR/1999_2003\")\n",
    "\n",
    "# Define region (Guatemala example)\n",
    "region = ee.Geometry.BBox(-90.1517107831, 15.5726233568, -89.1726311637, 16.29215598)\n",
    "\n",
    "# Create fishnet and download tiles\n",
    "create_fishnet_and_download(\n",
    "    image=image,\n",
    "    region=region,\n",
    "    out_dir=out_dir,\n",
    "    rows=2,\n",
    "    cols=2,\n",
    "    prefix=\"landsat_\",\n",
    "    scale=30\n",
    ")\n",
    "\n",
    "print(f\"Download complete. Files saved to: {out_dir}\")"
   ]
  }
 ],
 "metadata": {
  "kernelspec": {
   "display_name": "Python 3 (ipykernel)",
   "language": "python",
   "name": "python3"
  },
  "language_info": {
   "codemirror_mode": {
    "name": "ipython",
    "version": 3
   },
   "file_extension": ".py",
   "mimetype": "text/x-python",
   "name": "python",
   "nbconvert_exporter": "python",
   "pygments_lexer": "ipython3",
   "version": "3.13.1"
  }
 },
 "nbformat": 4,
 "nbformat_minor": 5
}
