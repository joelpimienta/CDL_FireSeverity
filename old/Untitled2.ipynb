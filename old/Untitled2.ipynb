{
 "cells": [
  {
   "cell_type": "code",
   "execution_count": 6,
   "id": "46ae5a4b-4e70-490c-9b82-3342bc1e15b3",
   "metadata": {},
   "outputs": [
    {
     "data": {
      "text/html": [
       "\n",
       "            <style>\n",
       "                .geemap-dark {\n",
       "                    --jp-widgets-color: white;\n",
       "                    --jp-widgets-label-color: white;\n",
       "                    --jp-ui-font-color1: white;\n",
       "                    --jp-layout-color2: #454545;\n",
       "                    background-color: #383838;\n",
       "                }\n",
       "\n",
       "                .geemap-dark .jupyter-button {\n",
       "                    --jp-layout-color3: #383838;\n",
       "                }\n",
       "\n",
       "                .geemap-colab {\n",
       "                    background-color: var(--colab-primary-surface-color, white);\n",
       "                }\n",
       "\n",
       "                .geemap-colab .jupyter-button {\n",
       "                    --jp-layout-color3: var(--colab-primary-surface-color, white);\n",
       "                }\n",
       "            </style>\n",
       "            "
      ],
      "text/plain": [
       "<IPython.core.display.HTML object>"
      ]
     },
     "metadata": {},
     "output_type": "display_data"
    }
   ],
   "source": [
    "import geopandas as gpd\n",
    "import geemap\n",
    "import json\n",
    "import ee"
   ]
  },
  {
   "cell_type": "code",
   "execution_count": 7,
   "id": "30f78f1e-d8e6-4969-ad9f-cc72dc43ff62",
   "metadata": {},
   "outputs": [
    {
     "data": {
      "text/html": [
       "\n",
       "            <style>\n",
       "                .geemap-dark {\n",
       "                    --jp-widgets-color: white;\n",
       "                    --jp-widgets-label-color: white;\n",
       "                    --jp-ui-font-color1: white;\n",
       "                    --jp-layout-color2: #454545;\n",
       "                    background-color: #383838;\n",
       "                }\n",
       "\n",
       "                .geemap-dark .jupyter-button {\n",
       "                    --jp-layout-color3: #383838;\n",
       "                }\n",
       "\n",
       "                .geemap-colab {\n",
       "                    background-color: var(--colab-primary-surface-color, white);\n",
       "                }\n",
       "\n",
       "                .geemap-colab .jupyter-button {\n",
       "                    --jp-layout-color3: var(--colab-primary-surface-color, white);\n",
       "                }\n",
       "            </style>\n",
       "            "
      ],
      "text/plain": [
       "<IPython.core.display.HTML object>"
      ]
     },
     "metadata": {},
     "output_type": "display_data"
    }
   ],
   "source": [
    "# Initialize the Earth Engine API\n",
    "ee.Authenticate()\n",
    "ee.Initialize(project = 'ee-samettenborough')"
   ]
  },
  {
   "cell_type": "code",
   "execution_count": 9,
   "id": "0428b5e0-15db-48f7-81e9-5aa1c1dbdada",
   "metadata": {},
   "outputs": [
    {
     "data": {
      "text/html": [
       "\n",
       "            <style>\n",
       "                .geemap-dark {\n",
       "                    --jp-widgets-color: white;\n",
       "                    --jp-widgets-label-color: white;\n",
       "                    --jp-ui-font-color1: white;\n",
       "                    --jp-layout-color2: #454545;\n",
       "                    background-color: #383838;\n",
       "                }\n",
       "\n",
       "                .geemap-dark .jupyter-button {\n",
       "                    --jp-layout-color3: #383838;\n",
       "                }\n",
       "\n",
       "                .geemap-colab {\n",
       "                    background-color: var(--colab-primary-surface-color, white);\n",
       "                }\n",
       "\n",
       "                .geemap-colab .jupyter-button {\n",
       "                    --jp-layout-color3: var(--colab-primary-surface-color, white);\n",
       "                }\n",
       "            </style>\n",
       "            "
      ],
      "text/plain": [
       "<IPython.core.display.HTML object>"
      ]
     },
     "metadata": {},
     "output_type": "display_data"
    },
    {
     "name": "stdout",
     "output_type": "stream",
     "text": [
      "{'type': 'Polygon', 'coordinates': [[[-90.22723617899999, 17.078497939000044], [-90.14389714699996, 17.07130367900004], [-90.14329490399996, 17.053128737000065], [-90.10201634999999, 17.05301390900007], [-90.10118093799997, 17.05301390900007], [-90.10088398099998, 17.05301391000006], [-90.09989222099995, 17.05301391100005], [-90.09976266499996, 17.05301395200007], [-90.09780240699996, 17.067324540000072], [-90.08967360799994, 17.066622820000077], [-89.85745386999997, 17.084743885000023], [-89.84081623399999, 17.157831350000038], [-89.87117376499998, 17.28963070100002], [-90.29975158699995, 17.299758833000055], [-90.39642941199997, 17.189642692000064], [-90.39448215299996, 17.092935485000055], [-90.25299668799994, 17.08072172100003], [-90.26407634499998, 17.05318584400004], [-90.24545944199997, 17.053128737000065], [-90.22723617899999, 17.078497939000044]]]}\n"
     ]
    }
   ],
   "source": [
    "# Load the shapefile\n",
    "shapefile_path = \"C:/Users/samet/Documents/coding-projects/CDL_FireSeverity/data/areas-of-interest/EMSR727_AOI03_BLP_PRODUCT_areaOfInterestA_v1.shp\"\n",
    "gdf = gpd.read_file(shapefile_path)\n",
    "\n",
    "countries = geemap.shp_to_ee(shapefile_path)\n",
    "\n",
    "# Ensure the CRS is WGS84 (EPSG:4326) for compatibility with Earth Engine\n",
    "if gdf.crs is not None and gdf.crs.to_epsg() != 4326:\n",
    "    gdf = gdf.to_crs(epsg=4326)\n",
    "\n",
    "# Convert the geometry to GeoJSON format\n",
    "# Convert to proper JSON structure\n",
    "geojson = json.loads(gdf.to_json())\n",
    "\n",
    "# Extract geometries from the GeoJSON\n",
    "features = geojson[\"features\"]\n",
    "\n",
    "# If the shapefile has multiple geometries, use a FeatureCollection\n",
    "if len(features) > 1:\n",
    "    ee_geometry = ee.FeatureCollection(features)\n",
    "else:\n",
    "    ee_geometry = ee.Geometry(features[0][\"geometry\"])\n",
    "\n",
    "# Print to verify\n",
    "print(ee_geometry.getInfo())"
   ]
  },
  {
   "cell_type": "code",
   "execution_count": 9,
   "id": "4b59e663-d404-4f16-8a04-403cb998bf8d",
   "metadata": {},
   "outputs": [
    {
     "data": {
      "text/plain": [
       "'{\"type\": \"FeatureCollection\", \"features\": [{\"id\": \"0\", \"type\": \"Feature\", \"properties\": {\"emsr_id\": \"EMSR727\", \"glide_no\": \"Not Applicable\", \"area_id\": \"03\", \"locality\": \"Pasocaballos\", \"map_type\": \"Delineation-Monit07\"}, \"geometry\": {\"type\": \"Polygon\", \"coordinates\": [[[-90.22723617899999, 17.078497939000044], [-90.24545944199997, 17.053128737000065], [-90.26407634499998, 17.05318584400004], [-90.25299668799994, 17.08072172100003], [-90.39448215299996, 17.092935485000055], [-90.39642941199997, 17.189642692000064], [-90.29975158699995, 17.299758833000055], [-89.87117376499998, 17.28963070100002], [-89.84081623399999, 17.157831350000038], [-89.85745386999997, 17.084743885000023], [-90.08967360799994, 17.066622820000077], [-90.09780240699996, 17.067324540000072], [-90.09976266499996, 17.05301395200007], [-90.09989222099995, 17.05301391100005], [-90.10088398099998, 17.05301391000006], [-90.10118093799997, 17.05301390900007], [-90.10201634999999, 17.05301390900007], [-90.14329490399996, 17.053128737000065], [-90.14389714699996, 17.07130367900004], [-90.22723617899999, 17.078497939000044]]]}}]}'"
      ]
     },
     "execution_count": 9,
     "metadata": {},
     "output_type": "execute_result"
    }
   ],
   "source": [
    "geojson"
   ]
  },
  {
   "cell_type": "code",
   "execution_count": null,
   "id": "d8f68986-3805-45b9-a84d-9b0c8416e32a",
   "metadata": {},
   "outputs": [],
   "source": []
  }
 ],
 "metadata": {
  "kernelspec": {
   "display_name": "Python 3 (ipykernel)",
   "language": "python",
   "name": "python3"
  },
  "language_info": {
   "codemirror_mode": {
    "name": "ipython",
    "version": 3
   },
   "file_extension": ".py",
   "mimetype": "text/x-python",
   "name": "python",
   "nbconvert_exporter": "python",
   "pygments_lexer": "ipython3",
   "version": "3.13.1"
  }
 },
 "nbformat": 4,
 "nbformat_minor": 5
}
